{
  "nbformat": 4,
  "nbformat_minor": 0,
  "metadata": {
    "colab": {
      "provenance": []
    },
    "kernelspec": {
      "name": "python3",
      "display_name": "Python 3"
    },
    "language_info": {
      "name": "python"
    }
  },
  "cells": [
    {
      "cell_type": "code",
      "metadata": {
        "id": "Uy3WxJWtyIbq"
      },
      "source": [
        "import numpy as np # linear algebra\n",
        "import pandas as pd # data processing, CSV file I/O (e.g. pd.read_csv)\n",
        "import keras \n",
        "from keras.models import Sequential\n",
        "from keras.layers import Conv2D, Dense, MaxPool2D, Dropout, Flatten\n",
        "from tensorflow.keras.optimizers import Adam\n",
        "from keras.preprocessing.image import ImageDataGenerator\n",
        "from keras.callbacks import ReduceLROnPlateau\n",
        "from sklearn.model_selection import train_test_split\n",
        "import matplotlib.pyplot as plt\n",
        "import seaborn as sns"
      ],
      "execution_count": null,
      "outputs": []
    },
    {
      "cell_type": "code",
      "metadata": {
        "id": "AYZAMIZD2BiG"
      },
      "source": [
        "df_train = pd.read_csv('/content/drive/MyDrive/Masters/10- December 2021/train.csv')\n",
        "X_train = df_train.iloc[:, 1:]\n",
        "Y_train = df_train.iloc[:, 0]"
      ],
      "execution_count": null,
      "outputs": []
    },
    {
      "cell_type": "code",
      "metadata": {
        "colab": {
          "base_uri": "https://localhost:8080/"
        },
        "id": "UnHz3Iul2TA2",
        "outputId": "e442f4d3-e56f-480d-9669-9499619f471b"
      },
      "source": [
        "print(X_train.head())\n",
        "print(Y_train.head())"
      ],
      "execution_count": null,
      "outputs": [
        {
          "output_type": "stream",
          "name": "stdout",
          "text": [
            "   pixel0  pixel1  pixel2  pixel3  ...  pixel780  pixel781  pixel782  pixel783\n",
            "0       0       0       0       0  ...         0         0         0         0\n",
            "1       0       0       0       0  ...         0         0         0         0\n",
            "2       0       0       0       0  ...         0         0         0         0\n",
            "3       0       0       0       0  ...         0         0         0         0\n",
            "4       0       0       0       0  ...         0         0         0         0\n",
            "\n",
            "[5 rows x 784 columns]\n",
            "0    1\n",
            "1    0\n",
            "2    1\n",
            "3    4\n",
            "4    0\n",
            "Name: label, dtype: int64\n"
          ]
        }
      ]
    },
    {
      "cell_type": "code",
      "metadata": {
        "id": "Jr4p4Lme2bTg"
      },
      "source": [
        "X_train = np.array(X_train)\n",
        "Y_train = np.array(Y_train)\n",
        "X_train = X_train / 255.0"
      ],
      "execution_count": null,
      "outputs": []
    },
    {
      "cell_type": "code",
      "metadata": {
        "id": "BApnIF0x2xkf"
      },
      "source": [
        "\n",
        "\n",
        "def plot_digits(X, Y):\n",
        "    for i in range(35):\n",
        "        plt.subplot(5, 7, i+1)\n",
        "        plt.tight_layout()\n",
        "        plt.imshow(X[i].reshape(28, 28), cmap='gray')\n",
        "        plt.title('Digit:{}'.format(Y[i]))\n",
        "        plt.xticks([])\n",
        "        plt.yticks([])\n",
        "    plt.show()\n",
        "\n"
      ],
      "execution_count": null,
      "outputs": []
    },
    {
      "cell_type": "code",
      "source": [
        "12*28*66"
      ],
      "metadata": {
        "colab": {
          "base_uri": "https://localhost:8080/"
        },
        "id": "5JPrpqmkp5bU",
        "outputId": "21657a29-8391-4693-d3c2-6b499586ce07"
      },
      "execution_count": null,
      "outputs": [
        {
          "output_type": "execute_result",
          "data": {
            "text/plain": [
              "22176"
            ]
          },
          "metadata": {},
          "execution_count": 12
        }
      ]
    },
    {
      "cell_type": "code",
      "source": [
        "(12*28*66) + (20 * 66)"
      ],
      "metadata": {
        "colab": {
          "base_uri": "https://localhost:8080/"
        },
        "id": "Gq51H9uxp7Ye",
        "outputId": "cb80ecae-d67e-4035-a394-3124792e68f0"
      },
      "execution_count": null,
      "outputs": [
        {
          "output_type": "execute_result",
          "data": {
            "text/plain": [
              "23496"
            ]
          },
          "metadata": {},
          "execution_count": 19
        }
      ]
    },
    {
      "cell_type": "code",
      "source": [
        "(0.0003125) * (23496)"
      ],
      "metadata": {
        "colab": {
          "base_uri": "https://localhost:8080/"
        },
        "id": "z-bLe-uK7jP_",
        "outputId": "00cc447f-dbe2-434b-8155-c451576ac6f6"
      },
      "execution_count": null,
      "outputs": [
        {
          "output_type": "execute_result",
          "data": {
            "text/plain": [
              "7.3425"
            ]
          },
          "metadata": {},
          "execution_count": 20
        }
      ]
    },
    {
      "cell_type": "code",
      "source": [
        "7179 + 7.3425 + 33.42"
      ],
      "metadata": {
        "colab": {
          "base_uri": "https://localhost:8080/"
        },
        "id": "wjMDNN0t7nuX",
        "outputId": "555a6baf-8ba2-4c14-88a7-4432fdcbd12c"
      },
      "execution_count": null,
      "outputs": [
        {
          "output_type": "execute_result",
          "data": {
            "text/plain": [
              "7219.7625"
            ]
          },
          "metadata": {},
          "execution_count": 21
        }
      ]
    },
    {
      "cell_type": "code",
      "source": [
        "(0.0003125) * ( 22176 + 5280)"
      ],
      "metadata": {
        "colab": {
          "base_uri": "https://localhost:8080/"
        },
        "id": "SO955y1Yp_PZ",
        "outputId": "2affb046-346c-4aaa-d8ab-c5ec9e7acadd"
      },
      "execution_count": null,
      "outputs": [
        {
          "output_type": "execute_result",
          "data": {
            "text/plain": [
              "8.58"
            ]
          },
          "metadata": {},
          "execution_count": 14
        }
      ]
    },
    {
      "cell_type": "code",
      "source": [
        "691 + 7179 + 8.58"
      ],
      "metadata": {
        "colab": {
          "base_uri": "https://localhost:8080/"
        },
        "id": "ikxc-kUKqEdK",
        "outputId": "54598693-34ed-4f88-f543-403771293d8f"
      },
      "execution_count": null,
      "outputs": [
        {
          "output_type": "execute_result",
          "data": {
            "text/plain": [
              "7878.58"
            ]
          },
          "metadata": {},
          "execution_count": 15
        }
      ]
    },
    {
      "cell_type": "code",
      "source": [
        "33179.6667 / 7219.7625"
      ],
      "metadata": {
        "colab": {
          "base_uri": "https://localhost:8080/"
        },
        "id": "fgjwTimcsWel",
        "outputId": "8e75dff8-1030-4c0d-9b5b-555d7ae1899d"
      },
      "execution_count": null,
      "outputs": [
        {
          "output_type": "execute_result",
          "data": {
            "text/plain": [
              "4.595672877051012"
            ]
          },
          "metadata": {},
          "execution_count": 22
        }
      ]
    },
    {
      "cell_type": "code",
      "source": [
        "(10**-8)/ 32"
      ],
      "metadata": {
        "colab": {
          "base_uri": "https://localhost:8080/"
        },
        "id": "SibO1FiHq3Yf",
        "outputId": "dbce8a1e-1288-4bde-aa7e-f894a3872e11"
      },
      "execution_count": null,
      "outputs": [
        {
          "output_type": "execute_result",
          "data": {
            "text/plain": [
              "3.125e-10"
            ]
          },
          "metadata": {},
          "execution_count": 9
        }
      ]
    },
    {
      "cell_type": "code",
      "source": [
        "(10**6)*3.125e-10"
      ],
      "metadata": {
        "colab": {
          "base_uri": "https://localhost:8080/"
        },
        "id": "LXzaFXFjrCNA",
        "outputId": "839b01e2-20ab-4416-8956-4e66fbd98b8f"
      },
      "execution_count": null,
      "outputs": [
        {
          "output_type": "execute_result",
          "data": {
            "text/plain": [
              "0.0003125"
            ]
          },
          "metadata": {},
          "execution_count": 10
        }
      ]
    },
    {
      "cell_type": "code",
      "metadata": {
        "colab": {
          "base_uri": "https://localhost:8080/",
          "height": 284
        },
        "id": "_iwVzy-022gU",
        "outputId": "9ab9f3be-6d3f-4bab-b2c8-adc872654107"
      },
      "source": [
        "plot_digits(X_train, Y_train)"
      ],
      "execution_count": null,
      "outputs": [
        {
          "output_type": "display_data",
          "data": {
            "image/png": "[encoded data removed]",
            "text/plain": [
              "<Figure size 432x288 with 35 Axes>"
            ]
          },
          "metadata": {}
        }
      ]
    },
    {
      "cell_type": "code",
      "metadata": {
        "colab": {
          "base_uri": "https://localhost:8080/",
          "height": 573
        },
        "id": "pv-tFcTQ3Ncf",
        "outputId": "b6eae676-8352-4879-8345-1eff07497173"
      },
      "source": [
        "fig, ax = plt.subplots(figsize=(8,8))\n",
        "sns.countplot(Y_train)\n",
        "ax.set_title('Distribution of Digits', fontsize=14)\n",
        "ax.set_xlabel('Digits', fontsize=12)\n",
        "ax.set_ylabel('Count', fontsize=14)\n",
        "plt.show()"
      ],
      "execution_count": null,
      "outputs": [
        {
          "output_type": "stream",
          "name": "stderr",
          "text": [
            "/usr/local/lib/python3.7/dist-packages/seaborn/_decorators.py:43: FutureWarning: Pass the following variable as a keyword arg: x. From version 0.12, the only valid positional argument will be `data`, and passing other arguments without an explicit keyword will result in an error or misinterpretation.\n",
            "  FutureWarning\n"
          ]
        },
        {
          "output_type": "display_data",
          "data": {
            "image/png": "[encoded data removed]",
            "text/plain": [
              "<Figure size 576x576 with 1 Axes>"
            ]
          },
          "metadata": {
            "needs_background": "light"
          }
        }
      ]
    },
    {
      "cell_type": "code",
      "metadata": {
        "id": "TynAi5X23R7a"
      },
      "source": [
        "#Train-Test Split\n",
        "X_dev, X_val, Y_dev, Y_val = train_test_split(X_train, Y_train, test_size=0.03, shuffle=True, random_state=2019)\n",
        "T_dev = pd.get_dummies(Y_dev).values\n",
        "T_val = pd.get_dummies(Y_val).values"
      ],
      "execution_count": null,
      "outputs": []
    },
    {
      "cell_type": "code",
      "metadata": {
        "id": "1W7VlPrg3V8B"
      },
      "source": [
        "#Reshape the input \n",
        "X_dev = X_dev.reshape(X_dev.shape[0], 28, 28, 1)\n",
        "X_val = X_val.reshape(X_val.shape[0], 28, 28, 1)"
      ],
      "execution_count": null,
      "outputs": []
    },
    {
      "cell_type": "code",
      "metadata": {
        "id": "_H7uHKTu5Qq_"
      },
      "source": [
        "model = Sequential()\n",
        "model.add(Conv2D(filters=32, kernel_size=(5,5), padding='same', activation='relu', input_shape=(28, 28, 1)))\n",
        "model.add(MaxPool2D(strides=2))\n",
        "model.add(Conv2D(filters=48, kernel_size=(5,5), padding='valid', activation='relu'))\n",
        "model.add(MaxPool2D(strides=2))\n",
        "model.add(Flatten())\n",
        "model.add(Dense(256, activation='relu'))\n",
        "model.add(Dense(84, activation='relu'))\n",
        "model.add(Dense(10, activation='softmax'))"
      ],
      "execution_count": null,
      "outputs": []
    },
    {
      "cell_type": "code",
      "source": [
        "224.8 ns\n",
        "33.1796667 ms"
      ],
      "metadata": {
        "id": "zCr7hrnBUmHG"
      },
      "execution_count": null,
      "outputs": []
    },
    {
      "cell_type": "code",
      "source": [
        "d=0"
      ],
      "metadata": {
        "id": "WSo1L6lSVT6C"
      },
      "execution_count": null,
      "outputs": []
    },
    {
      "cell_type": "code",
      "source": [
        "(33.1796667 * (10** -3))/ ( 224.8 * (10** -9))"
      ],
      "metadata": {
        "colab": {
          "base_uri": "https://localhost:8080/"
        },
        "id": "VtmzETZZUuqt",
        "outputId": "a6e394f5-d9da-49fd-b61f-4f70f0474985"
      },
      "execution_count": null,
      "outputs": [
        {
          "output_type": "execute_result",
          "data": {
            "text/plain": [
              "147596.3821174377"
            ]
          },
          "metadata": {},
          "execution_count": 2
        }
      ]
    },
    {
      "cell_type": "code",
      "metadata": {
        "colab": {
          "base_uri": "https://localhost:8080/"
        },
        "id": "4P6n2_O35Xg3",
        "outputId": "fb969e52-400b-4e4c-b8dd-833753700896"
      },
      "source": [
        "model.build()\n",
        "model.summary()"
      ],
      "execution_count": null,
      "outputs": [
        {
          "output_type": "stream",
          "name": "stdout",
          "text": [
            "Model: \"sequential\"\n",
            "_________________________________________________________________\n",
            " Layer (type)                Output Shape              Param #   \n",
            "=================================================================\n",
            " conv2d (Conv2D)             (None, 28, 28, 32)        832       \n",
            "                                                                 \n",
            " max_pooling2d (MaxPooling2D  (None, 14, 14, 32)       0         \n",
            " )                                                               \n",
            "                                                                 \n",
            " conv2d_1 (Conv2D)           (None, 10, 10, 48)        38448     \n",
            "                                                                 \n",
            " max_pooling2d_1 (MaxPooling  (None, 5, 5, 48)         0         \n",
            " 2D)                                                             \n",
            "                                                                 \n",
            " flatten (Flatten)           (None, 1200)              0         \n",
            "                                                                 \n",
            " dense (Dense)               (None, 256)               307456    \n",
            "                                                                 \n",
            " dense_1 (Dense)             (None, 84)                21588     \n",
            "                                                                 \n",
            " dense_2 (Dense)             (None, 10)                850       \n",
            "                                                                 \n",
            "=================================================================\n",
            "Total params: 369,174\n",
            "Trainable params: 369,174\n",
            "Non-trainable params: 0\n",
            "_________________________________________________________________\n"
          ]
        }
      ]
    },
    {
      "cell_type": "code",
      "metadata": {
        "colab": {
          "base_uri": "https://localhost:8080/"
        },
        "id": "UiLiQpZV5b9g",
        "outputId": "7d48173d-35ae-4f47-f5d3-adcd032ac688"
      },
      "source": [
        "adam = Adam(lr=5e-4)\n",
        "model.compile(loss='categorical_crossentropy', metrics=['accuracy'], optimizer=adam)"
      ],
      "execution_count": null,
      "outputs": [
        {
          "output_type": "stream",
          "name": "stderr",
          "text": [
            "/usr/local/lib/python3.7/dist-packages/keras/optimizer_v2/adam.py:105: UserWarning: The `lr` argument is deprecated, use `learning_rate` instead.\n",
            "  super(Adam, self).__init__(name, **kwargs)\n"
          ]
        }
      ]
    },
    {
      "cell_type": "code",
      "metadata": {
        "id": "oRmXPtx56_by"
      },
      "source": [
        "checkpoint_path = 'Lenet5Mnist.h5'\n",
        "import tensorflow as tf\n",
        "cp_callback = tf.keras.callbacks.ModelCheckpoint(filepath = checkpoint_path, save_weights_only = True, verbose =1)"
      ],
      "execution_count": null,
      "outputs": []
    },
    {
      "cell_type": "code",
      "metadata": {
        "id": "cPvBTZfa5ova"
      },
      "source": [
        "reduce_lr = ReduceLROnPlateau(monitor='val_acc', \n",
        "                                patience=3, \n",
        "                                verbose=1, \n",
        "                                factor=0.2, \n",
        "                                min_lr=1e-6)"
      ],
      "execution_count": null,
      "outputs": []
    },
    {
      "cell_type": "code",
      "metadata": {
        "id": "nYVsKHcC5sJy"
      },
      "source": [
        "datagen = ImageDataGenerator(\n",
        "            rotation_range=10, \n",
        "            width_shift_range=0.1, \n",
        "            height_shift_range=0.1, \n",
        "            zoom_range=0.1)\n",
        "datagen.fit(X_dev)"
      ],
      "execution_count": null,
      "outputs": []
    },
    {
      "cell_type": "code",
      "metadata": {
        "colab": {
          "base_uri": "https://localhost:8080/"
        },
        "id": "zgXBqv1W5u_l",
        "outputId": "dcade11e-9c8e-4e93-9f74-c9c69f33fff2"
      },
      "source": [
        "model.fit_generator(datagen.flow(X_dev, T_dev, batch_size=100), steps_per_epoch=len(X_dev)/100, \n",
        "                    epochs=30, validation_data=(X_val, T_val), callbacks=[reduce_lr , cp_callback])"
      ],
      "execution_count": null,
      "outputs": [
        {
          "output_type": "stream",
          "name": "stderr",
          "text": [
            "/usr/local/lib/python3.7/dist-packages/ipykernel_launcher.py:2: UserWarning: `Model.fit_generator` is deprecated and will be removed in a future version. Please use `Model.fit`, which supports generators.\n",
            "  \n"
          ]
        },
        {
          "output_type": "stream",
          "name": "stdout",
          "text": [
            "Epoch 1/30\n",
            "408/407 [==============================] - ETA: 0s - loss: 0.4878 - accuracy: 0.8442WARNING:tensorflow:Learning rate reduction is conditioned on metric `val_acc` which is not available. Available metrics are: loss,accuracy,val_loss,val_accuracy,lr\n",
            "\n",
            "Epoch 00001: saving model to Lenet5Mnist.h5\n",
            "407/407 [==============================] - 45s 109ms/step - loss: 0.4878 - accuracy: 0.8442 - val_loss: 0.0986 - val_accuracy: 0.9667 - lr: 5.0000e-04\n",
            "Epoch 2/30\n",
            "408/407 [==============================] - ETA: 0s - loss: 0.1433 - accuracy: 0.9564WARNING:tensorflow:Learning rate reduction is conditioned on metric `val_acc` which is not available. Available metrics are: loss,accuracy,val_loss,val_accuracy,lr\n",
            "\n",
            "Epoch 00002: saving model to Lenet5Mnist.h5\n",
            "407/407 [==============================] - 45s 110ms/step - loss: 0.1433 - accuracy: 0.9564 - val_loss: 0.0739 - val_accuracy: 0.9746 - lr: 5.0000e-04\n",
            "Epoch 3/30\n",
            "408/407 [==============================] - ETA: 0s - loss: 0.1021 - accuracy: 0.9690WARNING:tensorflow:Learning rate reduction is conditioned on metric `val_acc` which is not available. Available metrics are: loss,accuracy,val_loss,val_accuracy,lr\n",
            "\n",
            "Epoch 00003: saving model to Lenet5Mnist.h5\n",
            "407/407 [==============================] - 45s 109ms/step - loss: 0.1021 - accuracy: 0.9690 - val_loss: 0.0568 - val_accuracy: 0.9825 - lr: 5.0000e-04\n",
            "Epoch 4/30\n",
            "408/407 [==============================] - ETA: 0s - loss: 0.0810 - accuracy: 0.9748WARNING:tensorflow:Learning rate reduction is conditioned on metric `val_acc` which is not available. Available metrics are: loss,accuracy,val_loss,val_accuracy,lr\n",
            "\n",
            "Epoch 00004: saving model to Lenet5Mnist.h5\n",
            "407/407 [==============================] - 45s 109ms/step - loss: 0.0810 - accuracy: 0.9748 - val_loss: 0.0411 - val_accuracy: 0.9865 - lr: 5.0000e-04\n",
            "Epoch 5/30\n",
            "408/407 [==============================] - ETA: 0s - loss: 0.0688 - accuracy: 0.9793WARNING:tensorflow:Learning rate reduction is conditioned on metric `val_acc` which is not available. Available metrics are: loss,accuracy,val_loss,val_accuracy,lr\n",
            "\n",
            "Epoch 00005: saving model to Lenet5Mnist.h5\n",
            "407/407 [==============================] - 44s 109ms/step - loss: 0.0688 - accuracy: 0.9793 - val_loss: 0.0428 - val_accuracy: 0.9881 - lr: 5.0000e-04\n",
            "Epoch 6/30\n",
            "408/407 [==============================] - ETA: 0s - loss: 0.0608 - accuracy: 0.9811WARNING:tensorflow:Learning rate reduction is conditioned on metric `val_acc` which is not available. Available metrics are: loss,accuracy,val_loss,val_accuracy,lr\n",
            "\n",
            "Epoch 00006: saving model to Lenet5Mnist.h5\n",
            "407/407 [==============================] - 54s 131ms/step - loss: 0.0608 - accuracy: 0.9811 - val_loss: 0.0447 - val_accuracy: 0.9873 - lr: 5.0000e-04\n",
            "Epoch 7/30\n",
            "408/407 [==============================] - ETA: 0s - loss: 0.0551 - accuracy: 0.9825WARNING:tensorflow:Learning rate reduction is conditioned on metric `val_acc` which is not available. Available metrics are: loss,accuracy,val_loss,val_accuracy,lr\n",
            "\n",
            "Epoch 00007: saving model to Lenet5Mnist.h5\n",
            "407/407 [==============================] - 43s 105ms/step - loss: 0.0551 - accuracy: 0.9825 - val_loss: 0.0379 - val_accuracy: 0.9897 - lr: 5.0000e-04\n",
            "Epoch 8/30\n",
            "408/407 [==============================] - ETA: 0s - loss: 0.0507 - accuracy: 0.9840WARNING:tensorflow:Learning rate reduction is conditioned on metric `val_acc` which is not available. Available metrics are: loss,accuracy,val_loss,val_accuracy,lr\n",
            "\n",
            "Epoch 00008: saving model to Lenet5Mnist.h5\n",
            "407/407 [==============================] - 45s 109ms/step - loss: 0.0507 - accuracy: 0.9840 - val_loss: 0.0417 - val_accuracy: 0.9881 - lr: 5.0000e-04\n",
            "Epoch 9/30\n",
            "408/407 [==============================] - ETA: 0s - loss: 0.0434 - accuracy: 0.9861WARNING:tensorflow:Learning rate reduction is conditioned on metric `val_acc` which is not available. Available metrics are: loss,accuracy,val_loss,val_accuracy,lr\n",
            "\n",
            "Epoch 00009: saving model to Lenet5Mnist.h5\n",
            "407/407 [==============================] - 43s 105ms/step - loss: 0.0434 - accuracy: 0.9861 - val_loss: 0.0191 - val_accuracy: 0.9952 - lr: 5.0000e-04\n",
            "Epoch 10/30\n",
            "408/407 [==============================] - ETA: 0s - loss: 0.0415 - accuracy: 0.9869WARNING:tensorflow:Learning rate reduction is conditioned on metric `val_acc` which is not available. Available metrics are: loss,accuracy,val_loss,val_accuracy,lr\n",
            "\n",
            "Epoch 00010: saving model to Lenet5Mnist.h5\n",
            "407/407 [==============================] - 43s 105ms/step - loss: 0.0415 - accuracy: 0.9869 - val_loss: 0.0345 - val_accuracy: 0.9905 - lr: 5.0000e-04\n",
            "Epoch 11/30\n",
            "408/407 [==============================] - ETA: 0s - loss: 0.0385 - accuracy: 0.9878WARNING:tensorflow:Learning rate reduction is conditioned on metric `val_acc` which is not available. Available metrics are: loss,accuracy,val_loss,val_accuracy,lr\n",
            "\n",
            "Epoch 00011: saving model to Lenet5Mnist.h5\n",
            "407/407 [==============================] - 43s 105ms/step - loss: 0.0385 - accuracy: 0.9878 - val_loss: 0.0318 - val_accuracy: 0.9897 - lr: 5.0000e-04\n",
            "Epoch 12/30\n",
            "408/407 [==============================] - ETA: 0s - loss: 0.0358 - accuracy: 0.9884WARNING:tensorflow:Learning rate reduction is conditioned on metric `val_acc` which is not available. Available metrics are: loss,accuracy,val_loss,val_accuracy,lr\n",
            "\n",
            "Epoch 00012: saving model to Lenet5Mnist.h5\n",
            "407/407 [==============================] - 43s 106ms/step - loss: 0.0358 - accuracy: 0.9884 - val_loss: 0.0336 - val_accuracy: 0.9929 - lr: 5.0000e-04\n",
            "Epoch 13/30\n",
            "408/407 [==============================] - ETA: 0s - loss: 0.0371 - accuracy: 0.9889WARNING:tensorflow:Learning rate reduction is conditioned on metric `val_acc` which is not available. Available metrics are: loss,accuracy,val_loss,val_accuracy,lr\n",
            "\n",
            "Epoch 00013: saving model to Lenet5Mnist.h5\n",
            "407/407 [==============================] - 43s 105ms/step - loss: 0.0371 - accuracy: 0.9889 - val_loss: 0.0222 - val_accuracy: 0.9937 - lr: 5.0000e-04\n",
            "Epoch 14/30\n",
            "408/407 [==============================] - ETA: 0s - loss: 0.0337 - accuracy: 0.9895WARNING:tensorflow:Learning rate reduction is conditioned on metric `val_acc` which is not available. Available metrics are: loss,accuracy,val_loss,val_accuracy,lr\n",
            "\n",
            "Epoch 00014: saving model to Lenet5Mnist.h5\n",
            "407/407 [==============================] - 43s 106ms/step - loss: 0.0337 - accuracy: 0.9895 - val_loss: 0.0199 - val_accuracy: 0.9929 - lr: 5.0000e-04\n",
            "Epoch 15/30\n",
            "408/407 [==============================] - ETA: 0s - loss: 0.0302 - accuracy: 0.9901WARNING:tensorflow:Learning rate reduction is conditioned on metric `val_acc` which is not available. Available metrics are: loss,accuracy,val_loss,val_accuracy,lr\n",
            "\n",
            "Epoch 00015: saving model to Lenet5Mnist.h5\n",
            "407/407 [==============================] - 43s 105ms/step - loss: 0.0302 - accuracy: 0.9901 - val_loss: 0.0321 - val_accuracy: 0.9913 - lr: 5.0000e-04\n",
            "Epoch 16/30\n",
            "408/407 [==============================] - ETA: 0s - loss: 0.0313 - accuracy: 0.9898WARNING:tensorflow:Learning rate reduction is conditioned on metric `val_acc` which is not available. Available metrics are: loss,accuracy,val_loss,val_accuracy,lr\n",
            "\n",
            "Epoch 00016: saving model to Lenet5Mnist.h5\n",
            "407/407 [==============================] - 43s 105ms/step - loss: 0.0313 - accuracy: 0.9898 - val_loss: 0.0260 - val_accuracy: 0.9921 - lr: 5.0000e-04\n",
            "Epoch 17/30\n",
            "408/407 [==============================] - ETA: 0s - loss: 0.0292 - accuracy: 0.9910WARNING:tensorflow:Learning rate reduction is conditioned on metric `val_acc` which is not available. Available metrics are: loss,accuracy,val_loss,val_accuracy,lr\n",
            "\n",
            "Epoch 00017: saving model to Lenet5Mnist.h5\n",
            "407/407 [==============================] - 43s 106ms/step - loss: 0.0292 - accuracy: 0.9910 - val_loss: 0.0177 - val_accuracy: 0.9968 - lr: 5.0000e-04\n",
            "Epoch 18/30\n",
            "408/407 [==============================] - ETA: 0s - loss: 0.0289 - accuracy: 0.9908WARNING:tensorflow:Learning rate reduction is conditioned on metric `val_acc` which is not available. Available metrics are: loss,accuracy,val_loss,val_accuracy,lr\n",
            "\n",
            "Epoch 00018: saving model to Lenet5Mnist.h5\n",
            "407/407 [==============================] - 43s 105ms/step - loss: 0.0289 - accuracy: 0.9908 - val_loss: 0.0178 - val_accuracy: 0.9968 - lr: 5.0000e-04\n",
            "Epoch 19/30\n",
            "408/407 [==============================] - ETA: 0s - loss: 0.0242 - accuracy: 0.9919WARNING:tensorflow:Learning rate reduction is conditioned on metric `val_acc` which is not available. Available metrics are: loss,accuracy,val_loss,val_accuracy,lr\n",
            "\n",
            "Epoch 00019: saving model to Lenet5Mnist.h5\n",
            "407/407 [==============================] - 43s 106ms/step - loss: 0.0242 - accuracy: 0.9919 - val_loss: 0.0209 - val_accuracy: 0.9937 - lr: 5.0000e-04\n",
            "Epoch 20/30\n",
            "408/407 [==============================] - ETA: 0s - loss: 0.0257 - accuracy: 0.9917WARNING:tensorflow:Learning rate reduction is conditioned on metric `val_acc` which is not available. Available metrics are: loss,accuracy,val_loss,val_accuracy,lr\n",
            "\n",
            "Epoch 00020: saving model to Lenet5Mnist.h5\n",
            "407/407 [==============================] - 43s 105ms/step - loss: 0.0257 - accuracy: 0.9917 - val_loss: 0.0221 - val_accuracy: 0.9952 - lr: 5.0000e-04\n",
            "Epoch 21/30\n",
            "408/407 [==============================] - ETA: 0s - loss: 0.0234 - accuracy: 0.9925WARNING:tensorflow:Learning rate reduction is conditioned on metric `val_acc` which is not available. Available metrics are: loss,accuracy,val_loss,val_accuracy,lr\n",
            "\n",
            "Epoch 00021: saving model to Lenet5Mnist.h5\n",
            "407/407 [==============================] - 43s 105ms/step - loss: 0.0234 - accuracy: 0.9925 - val_loss: 0.0198 - val_accuracy: 0.9960 - lr: 5.0000e-04\n",
            "Epoch 22/30\n",
            "408/407 [==============================] - ETA: 0s - loss: 0.0245 - accuracy: 0.9911WARNING:tensorflow:Learning rate reduction is conditioned on metric `val_acc` which is not available. Available metrics are: loss,accuracy,val_loss,val_accuracy,lr\n",
            "\n",
            "Epoch 00022: saving model to Lenet5Mnist.h5\n",
            "407/407 [==============================] - 43s 105ms/step - loss: 0.0245 - accuracy: 0.9911 - val_loss: 0.0246 - val_accuracy: 0.9944 - lr: 5.0000e-04\n",
            "Epoch 23/30\n",
            "408/407 [==============================] - ETA: 0s - loss: 0.0213 - accuracy: 0.9931WARNING:tensorflow:Learning rate reduction is conditioned on metric `val_acc` which is not available. Available metrics are: loss,accuracy,val_loss,val_accuracy,lr\n",
            "\n",
            "Epoch 00023: saving model to Lenet5Mnist.h5\n",
            "407/407 [==============================] - 43s 105ms/step - loss: 0.0213 - accuracy: 0.9931 - val_loss: 0.0206 - val_accuracy: 0.9937 - lr: 5.0000e-04\n",
            "Epoch 24/30\n",
            "408/407 [==============================] - ETA: 0s - loss: 0.0221 - accuracy: 0.9932WARNING:tensorflow:Learning rate reduction is conditioned on metric `val_acc` which is not available. Available metrics are: loss,accuracy,val_loss,val_accuracy,lr\n",
            "\n",
            "Epoch 00024: saving model to Lenet5Mnist.h5\n",
            "407/407 [==============================] - 43s 105ms/step - loss: 0.0221 - accuracy: 0.9932 - val_loss: 0.0221 - val_accuracy: 0.9968 - lr: 5.0000e-04\n",
            "Epoch 25/30\n",
            "408/407 [==============================] - ETA: 0s - loss: 0.0217 - accuracy: 0.9930WARNING:tensorflow:Learning rate reduction is conditioned on metric `val_acc` which is not available. Available metrics are: loss,accuracy,val_loss,val_accuracy,lr\n",
            "\n",
            "Epoch 00025: saving model to Lenet5Mnist.h5\n",
            "407/407 [==============================] - 43s 105ms/step - loss: 0.0217 - accuracy: 0.9930 - val_loss: 0.0270 - val_accuracy: 0.9960 - lr: 5.0000e-04\n",
            "Epoch 26/30\n",
            "408/407 [==============================] - ETA: 0s - loss: 0.0213 - accuracy: 0.9929WARNING:tensorflow:Learning rate reduction is conditioned on metric `val_acc` which is not available. Available metrics are: loss,accuracy,val_loss,val_accuracy,lr\n",
            "\n",
            "Epoch 00026: saving model to Lenet5Mnist.h5\n",
            "407/407 [==============================] - 43s 106ms/step - loss: 0.0213 - accuracy: 0.9929 - val_loss: 0.0245 - val_accuracy: 0.9937 - lr: 5.0000e-04\n",
            "Epoch 27/30\n",
            "408/407 [==============================] - ETA: 0s - loss: 0.0202 - accuracy: 0.9934WARNING:tensorflow:Learning rate reduction is conditioned on metric `val_acc` which is not available. Available metrics are: loss,accuracy,val_loss,val_accuracy,lr\n",
            "\n",
            "Epoch 00027: saving model to Lenet5Mnist.h5\n",
            "407/407 [==============================] - 44s 107ms/step - loss: 0.0202 - accuracy: 0.9934 - val_loss: 0.0195 - val_accuracy: 0.9952 - lr: 5.0000e-04\n",
            "Epoch 28/30\n",
            "408/407 [==============================] - ETA: 0s - loss: 0.0198 - accuracy: 0.9935WARNING:tensorflow:Learning rate reduction is conditioned on metric `val_acc` which is not available. Available metrics are: loss,accuracy,val_loss,val_accuracy,lr\n",
            "\n",
            "Epoch 00028: saving model to Lenet5Mnist.h5\n",
            "407/407 [==============================] - 43s 106ms/step - loss: 0.0198 - accuracy: 0.9935 - val_loss: 0.0169 - val_accuracy: 0.9952 - lr: 5.0000e-04\n",
            "Epoch 29/30\n",
            "408/407 [==============================] - ETA: 0s - loss: 0.0183 - accuracy: 0.9939WARNING:tensorflow:Learning rate reduction is conditioned on metric `val_acc` which is not available. Available metrics are: loss,accuracy,val_loss,val_accuracy,lr\n",
            "\n",
            "Epoch 00029: saving model to Lenet5Mnist.h5\n",
            "407/407 [==============================] - 43s 106ms/step - loss: 0.0183 - accuracy: 0.9939 - val_loss: 0.0243 - val_accuracy: 0.9944 - lr: 5.0000e-04\n",
            "Epoch 30/30\n",
            "408/407 [==============================] - ETA: 0s - loss: 0.0159 - accuracy: 0.9949WARNING:tensorflow:Learning rate reduction is conditioned on metric `val_acc` which is not available. Available metrics are: loss,accuracy,val_loss,val_accuracy,lr\n",
            "\n",
            "Epoch 00030: saving model to Lenet5Mnist.h5\n",
            "407/407 [==============================] - 44s 107ms/step - loss: 0.0159 - accuracy: 0.9949 - val_loss: 0.0201 - val_accuracy: 0.9960 - lr: 5.0000e-04\n"
          ]
        },
        {
          "output_type": "execute_result",
          "data": {
            "text/plain": [
              "<keras.callbacks.History at 0x7f2eb7e83610>"
            ]
          },
          "metadata": {},
          "execution_count": 18
        }
      ]
    },
    {
      "cell_type": "code",
      "metadata": {
        "colab": {
          "base_uri": "https://localhost:8080/"
        },
        "id": "iBSKc1VP5yIl",
        "outputId": "85b56c02-c7eb-42d8-f8f2-6054bd65605c"
      },
      "source": [
        "score = model.evaluate(X_val, T_val, batch_size=32)"
      ],
      "execution_count": null,
      "outputs": [
        {
          "output_type": "stream",
          "name": "stdout",
          "text": [
            "40/40 [==============================] - 0s 11ms/step - loss: 0.0201 - accuracy: 0.9960\n"
          ]
        }
      ]
    },
    {
      "cell_type": "code",
      "metadata": {
        "colab": {
          "base_uri": "https://localhost:8080/"
        },
        "id": "c7k1RBho51cq",
        "outputId": "1f33cc64-5063-4c28-d250-e3569c24af12"
      },
      "source": [
        "df_test = pd.read_csv('/content/drive/MyDrive/Masters/10- December 2021/test.csv')\n",
        "X_test = np.array(df_test)\n",
        "X_test = X_test/255.0\n",
        "\n",
        "\n",
        "X_test = X_test.reshape((X_test.shape[0], 28, 28, 1))\n",
        "Y_test = model.predict(X_test)\n",
        "\n",
        "Y_test = np.argmax(Y_test, axis=1)\n",
        "Y_test[:5]"
      ],
      "execution_count": null,
      "outputs": [
        {
          "output_type": "execute_result",
          "data": {
            "text/plain": [
              "array([2, 0, 9, 0, 3])"
            ]
          },
          "metadata": {},
          "execution_count": 20
        }
      ]
    },
    {
      "cell_type": "code",
      "metadata": {
        "id": "DWbH0S9N3Njm"
      },
      "source": [
        "\n",
        "\n",
        "def plot_digits(X, Y):\n",
        "    for i in range(5):\n",
        "        plt.subplot(5, 1, i+1)\n",
        "        plt.tight_layout()\n",
        "        plt.imshow(X[i].reshape(28, 28), cmap='gray')\n",
        "        plt.title('Digit:{}'.format(Y[i]))\n",
        "        plt.xticks([])\n",
        "        plt.yticks([])\n",
        "    plt.show()\n",
        "\n"
      ],
      "execution_count": null,
      "outputs": []
    },
    {
      "cell_type": "code",
      "metadata": {
        "colab": {
          "base_uri": "https://localhost:8080/",
          "height": 284
        },
        "id": "EZIOa0Hj3R97",
        "outputId": "22723817-3df0-4709-9800-28ef0bcdaf21"
      },
      "source": [
        "plot_digits(X_test, Y_test)"
      ],
      "execution_count": null,
      "outputs": [
        {
          "output_type": "display_data",
          "data": {
            "image/png": "[encoded data removed]",
            "text/plain": [
              "<Figure size 432x288 with 5 Axes>"
            ]
          },
          "metadata": {}
        }
      ]
    },
    {
      "cell_type": "code",
      "metadata": {
        "colab": {
          "base_uri": "https://localhost:8080/"
        },
        "id": "S8pOTNwLW7E8",
        "outputId": "4857fa6d-eba7-4930-ba57-7636f349bc4a"
      },
      "source": [
        "import h5py\n",
        "dataset = h5py.File('/content/drive/MyDrive/Masters/10- December 2021/Lenet5Mnist.h5', 'r')\n",
        "big = list(dataset.items())\n",
        "print(big)\n",
        "print(len(big))"
      ],
      "execution_count": null,
      "outputs": [
        {
          "output_type": "stream",
          "name": "stdout",
          "text": [
            "[('conv2d', <HDF5 group \"/conv2d\" (1 members)>), ('conv2d_1', <HDF5 group \"/conv2d_1\" (1 members)>), ('dense', <HDF5 group \"/dense\" (1 members)>), ('dense_1', <HDF5 group \"/dense_1\" (1 members)>), ('dense_2', <HDF5 group \"/dense_2\" (1 members)>), ('flatten', <HDF5 group \"/flatten\" (0 members)>), ('max_pooling2d', <HDF5 group \"/max_pooling2d\" (0 members)>), ('max_pooling2d_1', <HDF5 group \"/max_pooling2d_1\" (0 members)>), ('top_level_model_weights', <HDF5 group \"/top_level_model_weights\" (0 members)>)]\n",
            "9\n"
          ]
        }
      ]
    },
    {
      "cell_type": "code",
      "metadata": {
        "colab": {
          "base_uri": "https://localhost:8080/"
        },
        "id": "VnDTbnT9XpNT",
        "outputId": "a0458820-3e3a-45a9-ee88-9ce8992ceb1d"
      },
      "source": [
        "f = open(\"weights.txt\", \"w\")\n",
        "for i in range (9):\n",
        "  f.write(\"layer number:\")\n",
        "  f.write(str(i) + \"\\n\")\n",
        "  #print(big[i])\n",
        "  f.write(big[i][0] + \"\\n\")\n",
        "  G1_list = list(dataset.get(big[i][0]))\n",
        "  #print(G1_list)\n",
        "  G1 = dataset.get(big[i][0])\n",
        "  #print(G1)\n",
        "  G2= G1.get(big[i][0])\n",
        "  if G2 is not None: \n",
        "    G3 =list(G2.items())\n",
        "    #print(G3)\n",
        "\n",
        "    f.write(G3[0][0] + \"\\n\")\n",
        "    f.write(str(len(np.array(G2.get(G3[0][0]))))+ \"\\n\")\n",
        "    with np.printoptions(threshold= np.inf):\n",
        "      f.write(str(np.array(G2.get(G3[0][0])))+ \"\\n\")\n",
        "    #print((np.array(G2.get(G3[0][0]))).shape)\n",
        "    #print((np.array(G2.get(G3[0][0])))[0].size)\n",
        "    #for row in x:\n",
        "    #  np.savetxt(f, row)\n",
        "    f.write(\"--------------------------------------------------\" + \"\\n\") \n",
        "    f.write(G3[1][0]  + \"\\n\")\n",
        "    arr1= G2.get(G3[1][0])\n",
        "    f.write(str(len(np.array(arr1)))+ \"\\n\")\n",
        "    if arr1.ndim is 4:\n",
        "      arr2 = np.moveaxis(np.array(arr1),[0,1, 2, 3], [2,3,1,0])\n",
        "    else:\n",
        "      arr2 = np.array(arr1)\n",
        "    #arr3 = np.rollaxis(arr2, axis= -1)\n",
        "    with np.printoptions(threshold= np.inf):\n",
        "      f.write(str(arr2)+ \"\\n\")\n",
        "    print((np.array(arr1)).shape)\n",
        "    print(arr2.shape)\n",
        "    #print((np.array(G2.get(G3[1][0])))[0].size)\n",
        "    f.write(\"--------------------------------------------------\" + \"\\n\") \n",
        "  f.write(\"***************\" + \"\\n\")\n",
        "  f.write(\"***************\" + \"\\n\")\n",
        "  f.write(\"***************\" + \"\\n\")\n",
        "f.close()"
      ],
      "execution_count": null,
      "outputs": [
        {
          "output_type": "stream",
          "name": "stdout",
          "text": [
            "(5, 5, 1, 32)\n",
            "(32, 1, 5, 5)\n",
            "(5, 5, 32, 48)\n",
            "(48, 32, 5, 5)\n",
            "(1200, 256)\n",
            "(1200, 256)\n",
            "(256, 84)\n",
            "(256, 84)\n",
            "(84, 10)\n",
            "(84, 10)\n"
          ]
        }
      ]
    },
    {
      "cell_type": "code",
      "metadata": {
        "id": "VhYAvshQW7T2",
        "colab": {
          "base_uri": "https://localhost:8080/"
        },
        "outputId": "66c7ef5a-3089-416a-e323-34cf6533384d"
      },
      "source": [
        "\n",
        "weight = model.get_weights()\n",
        "np.savetxt('weight.csv' , weight , fmt='%s', delimiter=',')"
      ],
      "execution_count": null,
      "outputs": [
        {
          "output_type": "stream",
          "name": "stderr",
          "text": [
            "/usr/local/lib/python3.7/dist-packages/numpy/core/_asarray.py:83: VisibleDeprecationWarning: Creating an ndarray from ragged nested sequences (which is a list-or-tuple of lists-or-tuples-or ndarrays with different lengths or shapes) is deprecated. If you meant to do this, you must specify 'dtype=object' when creating the ndarray\n",
            "  return array(a, dtype, copy=False, order=order)\n"
          ]
        }
      ]
    },
    {
      "cell_type": "code",
      "metadata": {
        "id": "AreuNaw8W7ZM",
        "colab": {
          "base_uri": "https://localhost:8080/"
        },
        "outputId": "60c3d1dc-244e-43dd-a182-e95c53fbf63c"
      },
      "source": [
        "2** 8 + 2**6 + 2**4 + 2**2"
      ],
      "execution_count": null,
      "outputs": [
        {
          "output_type": "execute_result",
          "data": {
            "text/plain": [
              "340"
            ]
          },
          "metadata": {},
          "execution_count": 7
        }
      ]
    },
    {
      "cell_type": "code",
      "source": [
        "4.9590520560741425e-2 * 4.1162246286869049e1 //3"
      ],
      "metadata": {
        "colab": {
          "base_uri": "https://localhost:8080/"
        },
        "id": "7fjmOLLLDa1a",
        "outputId": "f176f52e-99d0-4aa5-db74-b6a51b075f8d"
      },
      "execution_count": null,
      "outputs": [
        {
          "output_type": "execute_result",
          "data": {
            "text/plain": [
              "2.041257220815282"
            ]
          },
          "metadata": {},
          "execution_count": 1
        }
      ]
    },
    {
      "cell_type": "code",
      "source": [
        "3.4323228180408478e1 * 2.6070713996887207e-1"
      ],
      "metadata": {
        "colab": {
          "base_uri": "https://localhost:8080/"
        },
        "id": "BOxO_rR4EA0q",
        "outputId": "6f57c8c2-80d0-4b80-8c2c-01201c34647f"
      },
      "execution_count": null,
      "outputs": [
        {
          "output_type": "execute_result",
          "data": {
            "text/plain": [
              "8.948310653413287"
            ]
          },
          "metadata": {},
          "execution_count": 3
        }
      ]
    },
    {
      "cell_type": "code",
      "source": [
        "2.9110091742873192e2 * 5.3540605306625366e-1\n"
      ],
      "metadata": {
        "colab": {
          "base_uri": "https://localhost:8080/"
        },
        "id": "gmJmcPVpEA-a",
        "outputId": "3656eb5c-3d3c-4e1e-ffed-53463a6324d2"
      },
      "execution_count": null,
      "outputs": [
        {
          "output_type": "execute_result",
          "data": {
            "text/plain": [
              "155.85719324448277"
            ]
          },
          "metadata": {},
          "execution_count": 4
        }
      ]
    },
    {
      "cell_type": "code",
      "source": [
        "2.0499611896276474e2 *  4.4125995039939880e-1"
      ],
      "metadata": {
        "colab": {
          "base_uri": "https://localhost:8080/"
        },
        "id": "Ajns8P_nEej0",
        "outputId": "c1ba9d28-e5e7-4627-9fff-2189ed9dee6a"
      },
      "execution_count": null,
      "outputs": [
        {
          "output_type": "execute_result",
          "data": {
            "text/plain": [
              "90.45657728557883"
            ]
          },
          "metadata": {},
          "execution_count": 5
        }
      ]
    },
    {
      "cell_type": "code",
      "source": [
        "3.0800072854757309e2 *  2.6693445444107056e-1"
      ],
      "metadata": {
        "colab": {
          "base_uri": "https://localhost:8080/"
        },
        "id": "0pBB_bF9EenM",
        "outputId": "e2e38ca9-4e1b-42d8-941b-f713b07a8f12"
      },
      "execution_count": null,
      "outputs": [
        {
          "output_type": "execute_result",
          "data": {
            "text/plain": [
              "82.21600644229869"
            ]
          },
          "metadata": {},
          "execution_count": 6
        }
      ]
    },
    {
      "cell_type": "code",
      "source": [
        "2.041257220815282 +  8.948310653413287  + 155.85719324448277  + 90.45657728557883  +  82.21600644229869"
      ],
      "metadata": {
        "colab": {
          "base_uri": "https://localhost:8080/"
        },
        "id": "90lc1nljEBB2",
        "outputId": "3b724252-79e6-482f-86e5-b9d85cce7d49"
      },
      "execution_count": null,
      "outputs": [
        {
          "output_type": "execute_result",
          "data": {
            "text/plain": [
              "339.51934484658887"
            ]
          },
          "metadata": {},
          "execution_count": 7
        }
      ]
    },
    {
      "cell_type": "code",
      "source": [
        "4.2173535128888756e2 - 3.3951934484658887e2"
      ],
      "metadata": {
        "colab": {
          "base_uri": "https://localhost:8080/"
        },
        "id": "ZdMm8njwYB2Z",
        "outputId": "23925114-8402-4d5a-f552-513a4cf01f0f"
      },
      "execution_count": null,
      "outputs": [
        {
          "output_type": "execute_result",
          "data": {
            "text/plain": [
              "82.21600644229869"
            ]
          },
          "metadata": {},
          "execution_count": 1
        }
      ]
    },
    {
      "cell_type": "code",
      "source": [
        " 2**6 + 2**5 + 2**4 + 2**3"
      ],
      "metadata": {
        "colab": {
          "base_uri": "https://localhost:8080/"
        },
        "id": "ye-v69t-jS_N",
        "outputId": "07bbd279-3705-4bc0-c591-4863e574fc8c"
      },
      "execution_count": null,
      "outputs": [
        {
          "output_type": "execute_result",
          "data": {
            "text/plain": [
              "120"
            ]
          },
          "metadata": {},
          "execution_count": 3
        }
      ]
    },
    {
      "cell_type": "code",
      "source": [
        "8.2216006442298692e1"
      ],
      "metadata": {
        "colab": {
          "base_uri": "https://localhost:8080/"
        },
        "id": "Pr3cb_dDEBVK",
        "outputId": "366b62c7-2bdc-4c05-b485-9f56ecf78dc9"
      },
      "execution_count": null,
      "outputs": [
        {
          "output_type": "execute_result",
          "data": {
            "text/plain": [
              "82.21600644229869"
            ]
          },
          "metadata": {},
          "execution_count": 8
        }
      ]
    },
    {
      "cell_type": "code",
      "source": [
        "\"010100000010001001000110100000011001110111110010000111010111010010\" == \"010100000010010011100001100111110001010011011001010011011101101100\""
      ],
      "metadata": {
        "colab": {
          "base_uri": "https://localhost:8080/"
        },
        "id": "0UXIRQwcEyDr",
        "outputId": "59c3f9b6-04f7-4c63-86a6-571643f45a4e"
      },
      "execution_count": null,
      "outputs": [
        {
          "output_type": "execute_result",
          "data": {
            "text/plain": [
              "False"
            ]
          },
          "metadata": {},
          "execution_count": 1
        }
      ]
    },
    {
      "cell_type": "code",
      "source": [
        "\"010100000010000000100100011111000111101100101010101100101100010111\"  == \"010100000001111110110010010110110010011111110010011101010001011010\""
      ],
      "metadata": {
        "colab": {
          "base_uri": "https://localhost:8080/"
        },
        "id": "7-QrLjOQEyGH",
        "outputId": "0c4330e3-952c-4fd4-983c-5921f358c1b9"
      },
      "execution_count": null,
      "outputs": [
        {
          "output_type": "execute_result",
          "data": {
            "text/plain": [
              "False"
            ]
          },
          "metadata": {},
          "execution_count": 2
        }
      ]
    },
    {
      "cell_type": "code",
      "source": [],
      "metadata": {
        "id": "u4CeBNM0EyIl"
      },
      "execution_count": null,
      "outputs": []
    },
    {
      "cell_type": "code",
      "source": [],
      "metadata": {
        "id": "TCZssPQgEyLK"
      },
      "execution_count": null,
      "outputs": []
    },
    {
      "cell_type": "code",
      "source": [],
      "metadata": {
        "id": "rZ5j5aaUEyNo"
      },
      "execution_count": null,
      "outputs": []
    },
    {
      "cell_type": "code",
      "source": [],
      "metadata": {
        "id": "yTt9wnZzEyQP"
      },
      "execution_count": null,
      "outputs": []
    },
    {
      "cell_type": "code",
      "source": [],
      "metadata": {
        "id": "1pOg-_B6EyTj"
      },
      "execution_count": null,
      "outputs": []
    },
    {
      "cell_type": "code",
      "source": [
        "\"010100000001110101001110000100111100111100100010101011011100100000\" == \"010100000001110101001110000100111100111100100010101011011100100000\""
      ],
      "metadata": {
        "colab": {
          "base_uri": "https://localhost:8080/"
        },
        "id": "xJ6fzwL5Fd4V",
        "outputId": "e856bea5-b745-4fad-fd23-78a4abf8f194"
      },
      "execution_count": null,
      "outputs": [
        {
          "output_type": "execute_result",
          "data": {
            "text/plain": [
              "True"
            ]
          },
          "metadata": {},
          "execution_count": 9
        }
      ]
    },
    {
      "cell_type": "code",
      "source": [
        "\"010100000001111010010110111100001111111111101101101000110101111111\" == \"010100000001110101001110000100111100111100100010101011011100100000\""
      ],
      "metadata": {
        "colab": {
          "base_uri": "https://localhost:8080/"
        },
        "id": "FGbb_1vNFd63",
        "outputId": "e91a9111-8f0d-45cc-ae0b-4f5c1a9e67af"
      },
      "execution_count": null,
      "outputs": [
        {
          "output_type": "execute_result",
          "data": {
            "text/plain": [
              "False"
            ]
          },
          "metadata": {},
          "execution_count": 10
        }
      ]
    },
    {
      "cell_type": "code",
      "source": [
        "\"010100000001110101001110000100111100111100100010101011011100100000\" == \"010100000001110101001110000100111100111100100010101011011100100000\""
      ],
      "metadata": {
        "colab": {
          "base_uri": "https://localhost:8080/"
        },
        "id": "B-VkdZIUFd9P",
        "outputId": "16169d8b-3b7f-4e74-97b5-9b38d68e0624"
      },
      "execution_count": null,
      "outputs": [
        {
          "output_type": "execute_result",
          "data": {
            "text/plain": [
              "True"
            ]
          },
          "metadata": {},
          "execution_count": 12
        }
      ]
    },
    {
      "cell_type": "code",
      "source": [],
      "metadata": {
        "id": "Se1PLe3aFeAn"
      },
      "execution_count": null,
      "outputs": []
    },
    {
      "cell_type": "code",
      "source": [
        "\"010100000000000000010101000111111010101010011100010000000011111111\" == \"010100000000000000010101000111111010101010011100010000000011111111\""
      ],
      "metadata": {
        "colab": {
          "base_uri": "https://localhost:8080/"
        },
        "id": "kSyzAju8Df0D",
        "outputId": "ab5f31f4-f7e6-4f2c-d0d6-ede9fe8aa7f3"
      },
      "execution_count": null,
      "outputs": [
        {
          "output_type": "execute_result",
          "data": {
            "text/plain": [
              "True"
            ]
          },
          "metadata": {},
          "execution_count": 2
        }
      ]
    },
    {
      "cell_type": "code",
      "source": [],
      "metadata": {
        "id": "RWmpYhV3H-z2"
      },
      "execution_count": null,
      "outputs": []
    },
    {
      "cell_type": "code",
      "source": [
        "3.3951934484658887e2 + 6.1061649922466707e1 "
      ],
      "metadata": {
        "colab": {
          "base_uri": "https://localhost:8080/"
        },
        "id": "ERFtyUaYH-2N",
        "outputId": "a4b9d953-2d51-4e71-b3e4-35900f8ed5d9"
      },
      "execution_count": null,
      "outputs": [
        {
          "output_type": "execute_result",
          "data": {
            "text/plain": [
              "400.58099476905556"
            ]
          },
          "metadata": {},
          "execution_count": 3
        }
      ]
    },
    {
      "cell_type": "code",
      "source": [
        "3.3951934484658887e2 + 6.1061649922466707e1 +  2.1101862784596506"
      ],
      "metadata": {
        "colab": {
          "base_uri": "https://localhost:8080/"
        },
        "id": "YHK9oSZYH-4t",
        "outputId": "91876bde-e112-4f0d-ae93-bcf12ad64cb2"
      },
      "execution_count": null,
      "outputs": [
        {
          "output_type": "execute_result",
          "data": {
            "text/plain": [
              "402.6911810475152"
            ]
          },
          "metadata": {},
          "execution_count": 4
        }
      ]
    },
    {
      "cell_type": "code",
      "source": [
        "3.3951934484658887e2 + 6.1061649922466707e1 +  2.1101862784596506  + 1.2757169499217845e2"
      ],
      "metadata": {
        "colab": {
          "base_uri": "https://localhost:8080/"
        },
        "id": "wOpwNqyBH-7C",
        "outputId": "6d3b68a6-34e1-40d2-ccbd-15505c6473cc"
      },
      "execution_count": null,
      "outputs": [
        {
          "output_type": "execute_result",
          "data": {
            "text/plain": [
              "530.2628760396937"
            ]
          },
          "metadata": {},
          "execution_count": 5
        }
      ]
    },
    {
      "cell_type": "code",
      "source": [
        "3.3951934484658887e2 + 6.1061649922466707e1 +  2.1101862784596506  + 1.2757169499217845e2 + -1.9748851656913757e-2"
      ],
      "metadata": {
        "colab": {
          "base_uri": "https://localhost:8080/"
        },
        "id": "z-RWb0EiH-9h",
        "outputId": "0bc66942-79ac-4092-d643-0459a29dc0bc"
      },
      "execution_count": null,
      "outputs": [
        {
          "output_type": "execute_result",
          "data": {
            "text/plain": [
              "530.2431271880367"
            ]
          },
          "metadata": {},
          "execution_count": 6
        }
      ]
    },
    {
      "cell_type": "code",
      "source": [
        "-0.019748851656913757 == -1.9748851656913757e-2"
      ],
      "metadata": {
        "colab": {
          "base_uri": "https://localhost:8080/"
        },
        "id": "qvOpIJO7aR13",
        "outputId": "a0a0cd32-adeb-46f3-dd46-c7901749a437"
      },
      "execution_count": null,
      "outputs": [
        {
          "output_type": "execute_result",
          "data": {
            "text/plain": [
              "True"
            ]
          },
          "metadata": {},
          "execution_count": 2
        }
      ]
    },
    {
      "cell_type": "code",
      "source": [
        "530.2431271880367 - 4.9258901957358978e2\n"
      ],
      "metadata": {
        "colab": {
          "base_uri": "https://localhost:8080/"
        },
        "id": "iVA5RaYROLBe",
        "outputId": "aecff062-d3ab-436d-a6b6-a375c9d37a8c"
      },
      "execution_count": null,
      "outputs": [
        {
          "output_type": "execute_result",
          "data": {
            "text/plain": [
              "37.65410761444696"
            ]
          },
          "metadata": {},
          "execution_count": 8
        }
      ]
    },
    {
      "cell_type": "code",
      "source": [
        "5.3024312718803674e2 - 530.2431271880367"
      ],
      "metadata": {
        "colab": {
          "base_uri": "https://localhost:8080/"
        },
        "id": "_sJrQlOXH-_3",
        "outputId": "79a3ecce-bccb-451b-e1e8-a78fd16de049"
      },
      "execution_count": null,
      "outputs": [
        {
          "output_type": "execute_result",
          "data": {
            "text/plain": [
              "0.0"
            ]
          },
          "metadata": {},
          "execution_count": 7
        }
      ]
    },
    {
      "cell_type": "code",
      "source": [
        "4.9258901957358984e2"
      ],
      "metadata": {
        "id": "-0zYjtYZ9yMF"
      },
      "execution_count": null,
      "outputs": []
    },
    {
      "cell_type": "code",
      "source": [
        "4.9258901957358978e2"
      ],
      "metadata": {
        "id": "odSQUx_rH_Cd"
      },
      "execution_count": null,
      "outputs": []
    },
    {
      "cell_type": "code",
      "source": [
        "0.4441196918487549 * 4.1162246286869049e1 "
      ],
      "metadata": {
        "colab": {
          "base_uri": "https://localhost:8080/"
        },
        "id": "NIVl3LatikG_",
        "outputId": "7ad4bfd0-e48e-41d6-b5fa-52938badfb94"
      },
      "execution_count": null,
      "outputs": [
        {
          "output_type": "execute_result",
          "data": {
            "text/plain": [
              "18.280964136726837"
            ]
          },
          "metadata": {},
          "execution_count": 3
        }
      ]
    },
    {
      "cell_type": "code",
      "source": [
        "3.4323228180408478e1 * 0.26070713996887207"
      ],
      "metadata": {
        "colab": {
          "base_uri": "https://localhost:8080/"
        },
        "id": "3tkqvXvOikJW",
        "outputId": "10c36fb6-2b66-49f6-c38d-7027f76892fb"
      },
      "execution_count": null,
      "outputs": [
        {
          "output_type": "execute_result",
          "data": {
            "text/plain": [
              "8.948310653413287"
            ]
          },
          "metadata": {},
          "execution_count": 4
        }
      ]
    },
    {
      "cell_type": "code",
      "source": [
        "2.9110091742873192e2 * 0.4412599503993988"
      ],
      "metadata": {
        "colab": {
          "base_uri": "https://localhost:8080/"
        },
        "id": "kUp5rAtxikLx",
        "outputId": "711a00ee-4b09-4779-c56f-e4073c8f0b3c"
      },
      "execution_count": null,
      "outputs": [
        {
          "output_type": "execute_result",
          "data": {
            "text/plain": [
              "128.45117638582173"
            ]
          },
          "metadata": {},
          "execution_count": 5
        }
      ]
    },
    {
      "cell_type": "code",
      "source": [
        "2.0499611896276474e2 * 0.5354060530662537 "
      ],
      "metadata": {
        "colab": {
          "base_uri": "https://localhost:8080/"
        },
        "id": "5llINnWCikOB",
        "outputId": "ddc3cb54-de68-46c0-b3f6-24f860e3e129"
      },
      "execution_count": null,
      "outputs": [
        {
          "output_type": "execute_result",
          "data": {
            "text/plain": [
              "109.75616294775406"
            ]
          },
          "metadata": {},
          "execution_count": 6
        }
      ]
    },
    {
      "cell_type": "code",
      "source": [
        "3.0800072854757309e2  * 0.26693445444107056 "
      ],
      "metadata": {
        "colab": {
          "base_uri": "https://localhost:8080/"
        },
        "id": "VjSHwoPhikQ9",
        "outputId": "129bee0a-c84e-4a90-da37-f393dfb6c37d"
      },
      "execution_count": null,
      "outputs": [
        {
          "output_type": "execute_result",
          "data": {
            "text/plain": [
              "82.21600644229869"
            ]
          },
          "metadata": {},
          "execution_count": 7
        }
      ]
    },
    {
      "cell_type": "code",
      "source": [
        "18.280964136726837 + 8.948310653413287  + 128.45117638582173 + 109.75616294775406 + 82.21600644229869 //new rom in 1"
      ],
      "metadata": {
        "id": "78g48__rH_Ey",
        "colab": {
          "base_uri": "https://localhost:8080/"
        },
        "outputId": "b2c393f8-ffe8-4214-a621-0136ba0fce63"
      },
      "execution_count": null,
      "outputs": [
        {
          "output_type": "execute_result",
          "data": {
            "text/plain": [
              "347.6526205660146"
            ]
          },
          "metadata": {},
          "execution_count": 8
        }
      ]
    },
    {
      "cell_type": "code",
      "source": [
        "4.9258901957358978e2 - -0.019748851656913757"
      ],
      "metadata": {
        "id": "rr7XcK0LH_HR",
        "colab": {
          "base_uri": "https://localhost:8080/"
        },
        "outputId": "cae29e82-9f5f-4cfc-a74f-3f3206bad13e"
      },
      "execution_count": null,
      "outputs": [
        {
          "output_type": "execute_result",
          "data": {
            "text/plain": [
              "492.6087684252467"
            ]
          },
          "metadata": {},
          "execution_count": 1
        }
      ]
    },
    {
      "cell_type": "code",
      "source": [
        "530.2431271880367  - -0.019748851656913757"
      ],
      "metadata": {
        "colab": {
          "base_uri": "https://localhost:8080/"
        },
        "id": "BjL2S8DgFPtJ",
        "outputId": "e8ad74a3-a90d-42d5-b79f-fa68330c1642"
      },
      "execution_count": null,
      "outputs": [
        {
          "output_type": "execute_result",
          "data": {
            "text/plain": [
              "530.2628760396937"
            ]
          },
          "metadata": {},
          "execution_count": 4
        }
      ]
    },
    {
      "cell_type": "code",
      "source": [
        "530.2431271880367"
      ],
      "metadata": {
        "id": "NaNp28y4QUv4"
      },
      "execution_count": null,
      "outputs": []
    },
    {
      "cell_type": "code",
      "source": [
        " 530.2431271880367"
      ],
      "metadata": {
        "id": "hIxnCj_ah6Dt"
      },
      "execution_count": null,
      "outputs": []
    },
    {
      "cell_type": "code",
      "source": [
        "492.5890195735898"
      ],
      "metadata": {
        "id": "HHOxdkI7g48e"
      },
      "execution_count": null,
      "outputs": []
    },
    {
      "cell_type": "code",
      "source": [
        "import tensorflow as tf"
      ],
      "metadata": {
        "id": "zE6uNzekFXpt"
      },
      "execution_count": null,
      "outputs": []
    },
    {
      "cell_type": "code",
      "source": [
        "featuremap = np.array([])"
      ],
      "metadata": {
        "id": "AtenyCecFsEk"
      },
      "execution_count": null,
      "outputs": []
    },
    {
      "cell_type": "code",
      "source": [
        "weight = np.array([])"
      ],
      "metadata": {
        "id": "ZsE9zcq_FsHz"
      },
      "execution_count": null,
      "outputs": []
    },
    {
      "cell_type": "code",
      "source": [
        "x = tf.nn.convolution(featuremap , weight , padding='VALID')"
      ],
      "metadata": {
        "id": "qjlc6dAjFnXY"
      },
      "execution_count": null,
      "outputs": []
    },
    {
      "cell_type": "code",
      "source": [
        "print(x)"
      ],
      "metadata": {
        "id": "asnYnW73FnZy"
      },
      "execution_count": null,
      "outputs": []
    },
    {
      "cell_type": "code",
      "source": [],
      "metadata": {
        "id": "RZdBJ4tPFndL"
      },
      "execution_count": null,
      "outputs": []
    },
    {
      "cell_type": "code",
      "source": [],
      "metadata": {
        "id": "NU8t5uFlFXsI"
      },
      "execution_count": null,
      "outputs": []
    },
    {
      "cell_type": "code",
      "source": [],
      "metadata": {
        "id": "fBYHK1teFXun"
      },
      "execution_count": null,
      "outputs": []
    },
    {
      "cell_type": "code",
      "source": [],
      "metadata": {
        "id": "QFUCH2O1FXxk"
      },
      "execution_count": null,
      "outputs": []
    },
    {
      "cell_type": "code",
      "source": [
        "(0.18859189748764038 * 6.8869649878889322e2) + (0.14352713525295258 * 7.1146031869202852e2 ) + (0.4441196918487549 * 6.6042526276409626e2) + (0.08750399202108383 * 5.4450817962735891e2) + ( 0.26070713996887207 * 6.9629221733659506e2) + (0.4412599503993988 * 6.9114943577349186e2) "
      ],
      "metadata": {
        "colab": {
          "base_uri": "https://localhost:8080/"
        },
        "id": "M1X7GWTMjuZz",
        "outputId": "e368aedb-fedf-4098-8fb6-fd2310f0bcb5"
      },
      "execution_count": null,
      "outputs": [
        {
          "output_type": "execute_result",
          "data": {
            "text/plain": [
              "1059.4558627935535"
            ]
          },
          "metadata": {},
          "execution_count": 2
        }
      ]
    },
    {
      "cell_type": "code",
      "source": [
        "(3.4591310916468501e1 * 0.14352713525295258 ) + (1.1550440797605552e2 * 0.4441196918487549  ) + (1.0893103069090284e2 * 0.4412599503993988) + (1.1905673299916089e2 * 0.049590520560741425) + ( 5.3285165219800547e1 * 0.26693445444107056) "
      ],
      "metadata": {
        "colab": {
          "base_uri": "https://localhost:8080/"
        },
        "id": "jApMixhIjucE",
        "outputId": "6d00d28e-385b-4de6-9cd0-2d32deae201e"
      },
      "execution_count": null,
      "outputs": [
        {
          "output_type": "execute_result",
          "data": {
            "text/plain": [
              "124.45720691104609"
            ]
          },
          "metadata": {},
          "execution_count": 3
        }
      ]
    },
    {
      "cell_type": "code",
      "source": [],
      "metadata": {
        "id": "QpHcBUNyjueh"
      },
      "execution_count": null,
      "outputs": []
    },
    {
      "cell_type": "code",
      "source": [],
      "metadata": {
        "id": "Z89jczZnjuhN"
      },
      "execution_count": null,
      "outputs": []
    },
    {
      "cell_type": "code",
      "source": [],
      "metadata": {
        "id": "H_a821cAjukn"
      },
      "execution_count": null,
      "outputs": []
    },
    {
      "cell_type": "code",
      "source": [],
      "metadata": {
        "id": "vVn639zwH_J3"
      },
      "execution_count": null,
      "outputs": []
    },
    {
      "cell_type": "code",
      "metadata": {
        "id": "jH1e3wSQW7ez",
        "colab": {
          "base_uri": "https://localhost:8080/"
        },
        "outputId": "377c73d8-4eab-42b7-fb0a-07bc2a2a9b90"
      },
      "source": [
        "for i in range(1,27):\n",
        "  print(i, i * 13)"
      ],
      "execution_count": null,
      "outputs": [
        {
          "output_type": "stream",
          "name": "stdout",
          "text": [
            "1 13\n",
            "2 26\n",
            "3 39\n",
            "4 52\n",
            "5 65\n",
            "6 78\n",
            "7 91\n",
            "8 104\n",
            "9 117\n",
            "10 130\n",
            "11 143\n",
            "12 156\n",
            "13 169\n",
            "14 182\n",
            "15 195\n",
            "16 208\n",
            "17 221\n",
            "18 234\n",
            "19 247\n",
            "20 260\n",
            "21 273\n",
            "22 286\n",
            "23 299\n",
            "24 312\n",
            "25 325\n",
            "26 338\n"
          ]
        }
      ]
    },
    {
      "cell_type": "code",
      "source": [
        "1.2496214118781163e3 - 1249.6214118781163"
      ],
      "metadata": {
        "colab": {
          "base_uri": "https://localhost:8080/"
        },
        "id": "b0RCtRd1_Cxy",
        "outputId": "22ba3c53-55bc-4e54-aad9-040331a85ff6"
      },
      "execution_count": null,
      "outputs": [
        {
          "output_type": "execute_result",
          "data": {
            "text/plain": [
              "0.0"
            ]
          },
          "metadata": {},
          "execution_count": 1
        }
      ]
    },
    {
      "cell_type": "code",
      "source": [
        "2.2610905971368184e3 - 2261.090597136819"
      ],
      "metadata": {
        "colab": {
          "base_uri": "https://localhost:8080/"
        },
        "id": "gkSuK82p_C0J",
        "outputId": "2224108d-bd90-44a7-9cc4-0ab7442cf2a5"
      },
      "execution_count": null,
      "outputs": [
        {
          "output_type": "execute_result",
          "data": {
            "text/plain": [
              "-4.547473508864641e-13"
            ]
          },
          "metadata": {},
          "execution_count": 2
        }
      ]
    },
    {
      "cell_type": "code",
      "source": [
        "2.5851713067840469e3 - 2585.1713067840465"
      ],
      "metadata": {
        "colab": {
          "base_uri": "https://localhost:8080/"
        },
        "id": "YNFP-7Oa_C2f",
        "outputId": "68b2cc35-b46c-4704-c6be-dfe259572586"
      },
      "execution_count": null,
      "outputs": [
        {
          "output_type": "execute_result",
          "data": {
            "text/plain": [
              "4.547473508864641e-13"
            ]
          },
          "metadata": {},
          "execution_count": 3
        }
      ]
    },
    {
      "cell_type": "code",
      "source": [
        "3.1902952209505861e3 - 3190.295220950587"
      ],
      "metadata": {
        "colab": {
          "base_uri": "https://localhost:8080/"
        },
        "id": "Phj9Y9Gk_C49",
        "outputId": "b7c56b1d-eea4-4c26-9302-c66f90d185da"
      },
      "execution_count": null,
      "outputs": [
        {
          "output_type": "execute_result",
          "data": {
            "text/plain": [
              "-9.094947017729282e-13"
            ]
          },
          "metadata": {},
          "execution_count": 4
        }
      ]
    },
    {
      "cell_type": "code",
      "source": [
        "2.1901624244507084e3 - "
      ],
      "metadata": {
        "id": "Qi9M_1gC_C7-"
      },
      "execution_count": null,
      "outputs": []
    },
    {
      "cell_type": "code",
      "source": [],
      "metadata": {
        "id": "C9K7hN5L_109"
      },
      "execution_count": null,
      "outputs": []
    },
    {
      "cell_type": "code",
      "source": [
        "9.8599675556870250e2"
      ],
      "metadata": {
        "id": "bZ13Kxhk_13e"
      },
      "execution_count": null,
      "outputs": []
    },
    {
      "cell_type": "code",
      "source": [
        "9.3043509745485198e2"
      ],
      "metadata": {
        "id": "KgOxIdvh_160"
      },
      "execution_count": null,
      "outputs": []
    },
    {
      "cell_type": "code",
      "source": [
        "2**10"
      ],
      "metadata": {
        "colab": {
          "base_uri": "https://localhost:8080/"
        },
        "id": "lc4PqCQdP0sh",
        "outputId": "e3670645-e689-42c4-9445-3c0b3a07cf65"
      },
      "execution_count": null,
      "outputs": [
        {
          "output_type": "execute_result",
          "data": {
            "text/plain": [
              "1024"
            ]
          },
          "metadata": {},
          "execution_count": 1
        }
      ]
    },
    {
      "cell_type": "code",
      "source": [
        "2**10 + 2**8 + 2**5+ 2**3"
      ],
      "metadata": {
        "colab": {
          "base_uri": "https://localhost:8080/"
        },
        "id": "XJTK5msNP0vG",
        "outputId": "df3d81cb-0b42-4ccd-9562-4e93f3b5d29c"
      },
      "execution_count": null,
      "outputs": [
        {
          "output_type": "execute_result",
          "data": {
            "text/plain": [
              "1320"
            ]
          },
          "metadata": {},
          "execution_count": 2
        }
      ]
    },
    {
      "cell_type": "code",
      "source": [
        "for i in range(0, 102):\n",
        "  print(i, i * 13)"
      ],
      "metadata": {
        "colab": {
          "base_uri": "https://localhost:8080/"
        },
        "id": "Uo8TqbkGP0yA",
        "outputId": "81d69baa-7787-4da6-dd2d-e14378d795b5"
      },
      "execution_count": null,
      "outputs": [
        {
          "output_type": "stream",
          "name": "stdout",
          "text": [
            "0 0\n",
            "1 13\n",
            "2 26\n",
            "3 39\n",
            "4 52\n",
            "5 65\n",
            "6 78\n",
            "7 91\n",
            "8 104\n",
            "9 117\n",
            "10 130\n",
            "11 143\n",
            "12 156\n",
            "13 169\n",
            "14 182\n",
            "15 195\n",
            "16 208\n",
            "17 221\n",
            "18 234\n",
            "19 247\n",
            "20 260\n",
            "21 273\n",
            "22 286\n",
            "23 299\n",
            "24 312\n",
            "25 325\n",
            "26 338\n",
            "27 351\n",
            "28 364\n",
            "29 377\n",
            "30 390\n",
            "31 403\n",
            "32 416\n",
            "33 429\n",
            "34 442\n",
            "35 455\n",
            "36 468\n",
            "37 481\n",
            "38 494\n",
            "39 507\n",
            "40 520\n",
            "41 533\n",
            "42 546\n",
            "43 559\n",
            "44 572\n",
            "45 585\n",
            "46 598\n",
            "47 611\n",
            "48 624\n",
            "49 637\n",
            "50 650\n",
            "51 663\n",
            "52 676\n",
            "53 689\n",
            "54 702\n",
            "55 715\n",
            "56 728\n",
            "57 741\n",
            "58 754\n",
            "59 767\n",
            "60 780\n",
            "61 793\n",
            "62 806\n",
            "63 819\n",
            "64 832\n",
            "65 845\n",
            "66 858\n",
            "67 871\n",
            "68 884\n",
            "69 897\n",
            "70 910\n",
            "71 923\n",
            "72 936\n",
            "73 949\n",
            "74 962\n",
            "75 975\n",
            "76 988\n",
            "77 1001\n",
            "78 1014\n",
            "79 1027\n",
            "80 1040\n",
            "81 1053\n",
            "82 1066\n",
            "83 1079\n",
            "84 1092\n",
            "85 1105\n",
            "86 1118\n",
            "87 1131\n",
            "88 1144\n",
            "89 1157\n",
            "90 1170\n",
            "91 1183\n",
            "92 1196\n",
            "93 1209\n",
            "94 1222\n",
            "95 1235\n",
            "96 1248\n",
            "97 1261\n",
            "98 1274\n",
            "99 1287\n",
            "100 1300\n",
            "101 1313\n"
          ]
        }
      ]
    },
    {
      "cell_type": "code",
      "source": [
        "2**8 + 2**6 + 2**4+ 2**3+ 2**0"
      ],
      "metadata": {
        "colab": {
          "base_uri": "https://localhost:8080/"
        },
        "id": "pzhm849jP00i",
        "outputId": "2c8f04db-767b-4eaa-9506-d0dced418e98"
      },
      "execution_count": null,
      "outputs": [
        {
          "output_type": "execute_result",
          "data": {
            "text/plain": [
              "345"
            ]
          },
          "metadata": {},
          "execution_count": 5
        }
      ]
    },
    {
      "cell_type": "code",
      "source": [
        "3.1828230226623432e3 - 3.1828230226623455e3"
      ],
      "metadata": {
        "id": "hnp-ArlnP036",
        "colab": {
          "base_uri": "https://localhost:8080/"
        },
        "outputId": "d68a9e0c-84a5-44e7-eab0-5c020da25df5"
      },
      "execution_count": null,
      "outputs": [
        {
          "output_type": "execute_result",
          "data": {
            "text/plain": [
              "-2.2737367544323206e-12"
            ]
          },
          "metadata": {},
          "execution_count": 1
        }
      ]
    },
    {
      "cell_type": "code",
      "source": [
        "1315-1024 -256-32 - 2 -1"
      ],
      "metadata": {
        "colab": {
          "base_uri": "https://localhost:8080/"
        },
        "id": "iFa_coo5CuBf",
        "outputId": "3bc0ae9e-2979-47c8-cc3c-0ca2a4a54a44"
      },
      "execution_count": null,
      "outputs": [
        {
          "output_type": "execute_result",
          "data": {
            "text/plain": [
              "0"
            ]
          },
          "metadata": {},
          "execution_count": 4
        }
      ]
    },
    {
      "cell_type": "code",
      "source": [
        "2**10 +2**8 +2**5 +2**1 +2**0 "
      ],
      "metadata": {
        "colab": {
          "base_uri": "https://localhost:8080/"
        },
        "id": "UUQh4DR2Czdn",
        "outputId": "0fbef8f0-6a21-481f-ad3d-0814ef64a88c"
      },
      "execution_count": null,
      "outputs": [
        {
          "output_type": "execute_result",
          "data": {
            "text/plain": [
              "1315"
            ]
          },
          "metadata": {},
          "execution_count": 5
        }
      ]
    }
  ]
}