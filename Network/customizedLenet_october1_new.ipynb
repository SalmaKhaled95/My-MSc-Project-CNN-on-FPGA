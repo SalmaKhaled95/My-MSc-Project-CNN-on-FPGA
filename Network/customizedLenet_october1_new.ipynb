{
  "cells": [
    {
      "cell_type": "code",
      "execution_count": null,
      "metadata": {
        "colab": {
          "base_uri": "https://localhost:8080/"
        },
        "id": "J37BlonHa8iN",
        "outputId": "a5b85582-f549-4d1e-9382-d7799e4177c7"
      },
      "outputs": [
        {
          "output_type": "stream",
          "name": "stdout",
          "text": [
            "Drive already mounted at /content/drive; to attempt to forcibly remount, call drive.mount(\"/content/drive\", force_remount=True).\n"
          ]
        }
      ],
      "source": [
        "from google.colab import drive\n",
        "drive.mount('/content/drive')"
      ]
    },
    {
      "cell_type": "code",
      "execution_count": null,
      "metadata": {
        "id": "Uy3WxJWtyIbq"
      },
      "outputs": [],
      "source": [
        "import numpy as np # linear algebra\n",
        "import pandas as pd # data processing, CSV file I/O (e.g. pd.read_csv)\n",
        "import keras \n",
        "from keras.models import Sequential\n",
        "from keras.layers import Conv2D, Dense, MaxPool2D, Dropout, Flatten\n",
        "from tensorflow.keras.optimizers import Adam\n",
        "from keras.preprocessing.image import ImageDataGenerator\n",
        "from keras.callbacks import ReduceLROnPlateau\n",
        "from sklearn.model_selection import train_test_split\n",
        "import matplotlib.pyplot as plt\n",
        "import seaborn as sns"
      ]
    },
    {
      "cell_type": "code",
      "execution_count": null,
      "metadata": {
        "id": "AYZAMIZD2BiG",
        "colab": {
          "base_uri": "https://localhost:8080/"
        },
        "outputId": "1a618637-10ee-4ecf-fa4b-e29b2a1415c1"
      },
      "outputs": [
        {
          "output_type": "stream",
          "name": "stderr",
          "text": [
            "/usr/local/lib/python3.7/dist-packages/IPython/core/interactiveshell.py:3326: DtypeWarning: Columns (0,1,2,3,4,5,6,7,8,9,10,11,12,13,14,15,16,17,18,19,20,21,22,23,24,25,26,27,28,29,30,31,32,33,34,35,36,37,38,39,40,41,42,43,44,45,46,47,48,49,50,51,52,53,54,55,56,57,58,59,60,61,62,63,64,65,66,67,68,69,70,71,72,73,74,75,76,77,78,79,80,81,82,83,84,85,86,87,88,89,90,91,92,93,94,95,96,97,98,99,100,101,102,103,104,105,106,107,108,109,110,111,112,113,114,115,116,117,118,119,120,121,122,123,124,125,126,127,128,129,130,131,132,133,134,135,136,137,138,139,140,141,142,143,144,145,146,147,148,149,150,151,152,153,154,155,156,157,158,159,160,161,162,163,164,165,166,167,168,169,170,171,172,173,174,175,176,177,178,179,180,181,182,183,184,185,186,187,188,189,190,191,192,193,194,195,196,197,198,199,200,201,202,203,204,205,206,207,208,209,210,211,212,213,214,215,216,217,218,219,220,221,222,223,224,225,226,227,228,229,230,231,232,233,234,235,236,237,238,239,240,241,242,243,244,245,246,247,248,249,250,251,252,253,254,255,256,257,258,259,260,261,262,263,264,265,266,267,268,269,270,271,272,273,274,275,276,277,278,279,280,281,282,283,284,285,286,287,288,289,290,291,292,293,294,295,296,297,298,299,300,301,302,303,304,305,306,307,308,309,310,311,312,313,314,315,316,317,318,319,320,321,322,323,324,325,326,327,328,329,330,331,332,333,334,335,336,337,338,339,340,341,342,343,344,345,346,347,348,349,350,351,352,353,354,355,356,357,358,359,360,361,362,363,364,365,366,367,368,369,370,371,372,373,374,375,376,377,378,379,380,381,382,383,384,385,386,387,388,389,390,391,392,393,394,395,396,397,398,399,400,401,402,403,404,405,406,407,408,409,410,411,412,413,414,415,416,417,418,419,420,421,422,423,424,425,426,427,428,429,430,431,432,433,434,435,436,437,438,439,440,441,442,443,444,445,446,447,448,449,450,451,452,453,454,455,456,457,458,459,460,461,462,463,464,465,466,467,468,469,470,471,472,473,474,475,476,477,478,479,480,481,482,483,484,485,486,487,488,489,490,491,492,493,494,495,496,497,498,499,500,501,502,503,504,505,506,507,508,509,510,511,512,513,514,515,516,517,518,519,520,521,522,523,524,525,526,527,528,529,530,531,532,533,534,535,536,537,538,539,540,541,542,543,544,545,546,547,548,549,550,551,552,553,554,555,556,557,558,559,560,561,562,563,564,565,566,567,568,569,570,571,572,573,574,575,576,577,578,579,580,581,582,583,584,585,586,587,588,589,590,591,592,593,594,595,596,597,598,599,600,601,602,603,604,605,606,607,608,609,610,611,612,613,614,615,616,617,618,619,620,621,622,623,624,625,626,627,628,629,630,631,632,633,634,635,636,637,638,639,640,641,642,643,644,645,646,647,648,649,650,651,652,653,654,655,656,657,658,659,660,661,662,663,664,665,666,667,668,669,670,671,672,673,674,675,676,677,678,679,680,681,682,683,684,685,686,687,688,689,690,691,692,693,694,695,696,697,698,699,700,701,702,703,704,705,706,707,708,709,710,711,712,713,714,715,716,717,718,719,720,721,722,723,724,725,726,727,728,729,730,731,732,733,734,735,736,737,738,739,740,741,742,743,744,745,746,747,748,749,750,751,752,753,754,755,756,757,758,759,760,761,762,763,764,765,766,767,768,769,770,771,772,773,774,775,776,777,778,779,780,781,782,783,784) have mixed types.Specify dtype option on import or set low_memory=False.\n",
            "  exec(code_obj, self.user_global_ns, self.user_ns)\n"
          ]
        }
      ],
      "source": [
        "df_train = pd.read_csv('/content/drive/MyDrive/Masters/10- December 2021/train.csv', header=None)\n",
        "#X_train = df_train.iloc[:, 1:]\n",
        "#Y_train = df_train.iloc[:, 0]"
      ]
    },
    {
      "cell_type": "code",
      "source": [
        "X_train = df_train.iloc[:, 1:]\n",
        "#X_train.loc[(int(X_train[:]) > 127)] = 1\n",
        "#X_train.loc[(int(X_train) <= 127)] = 0\n",
        "Y_train = df_train.iloc[:, 0]"
      ],
      "metadata": {
        "id": "dJyHiQjx2vPE"
      },
      "execution_count": null,
      "outputs": []
    },
    {
      "cell_type": "code",
      "source": [
        "print(X_train.head())\n",
        "print(Y_train.head())"
      ],
      "metadata": {
        "colab": {
          "base_uri": "https://localhost:8080/"
        },
        "id": "lmZhdJlnwTYO",
        "outputId": "1fdff319-595e-4e98-89c6-a269ccbfac86"
      },
      "execution_count": null,
      "outputs": [
        {
          "output_type": "stream",
          "name": "stdout",
          "text": [
            "      1       2       3       4       5       6       7       8       9    \\\n",
            "0  pixel0  pixel1  pixel2  pixel3  pixel4  pixel5  pixel6  pixel7  pixel8   \n",
            "1       0       0       0       0       0       0       0       0       0   \n",
            "2       0       0       0       0       0       0       0       0       0   \n",
            "3       0       0       0       0       0       0       0       0       0   \n",
            "4       0       0       0       0       0       0       0       0       0   \n",
            "\n",
            "      10   ...       775       776       777       778       779       780  \\\n",
            "0  pixel9  ...  pixel774  pixel775  pixel776  pixel777  pixel778  pixel779   \n",
            "1       0  ...         0         0         0         0         0         0   \n",
            "2       0  ...         0         0         0         0         0         0   \n",
            "3       0  ...         0         0         0         0         0         0   \n",
            "4       0  ...         0         0         0         0         0         0   \n",
            "\n",
            "        781       782       783       784  \n",
            "0  pixel780  pixel781  pixel782  pixel783  \n",
            "1         0         0         0         0  \n",
            "2         0         0         0         0  \n",
            "3         0         0         0         0  \n",
            "4         0         0         0         0  \n",
            "\n",
            "[5 rows x 784 columns]\n",
            "0    label\n",
            "1        1\n",
            "2        0\n",
            "3        1\n",
            "4        4\n",
            "Name: 0, dtype: object\n"
          ]
        }
      ]
    },
    {
      "cell_type": "code",
      "execution_count": null,
      "metadata": {
        "id": "Jr4p4Lme2bTg"
      },
      "outputs": [],
      "source": [
        "X_train = np.array(X_train)\n",
        "Y_train = np.array(Y_train)\n",
        "#X_train = X_train / 255.0"
      ]
    },
    {
      "cell_type": "code",
      "execution_count": null,
      "metadata": {
        "id": "BApnIF0x2xkf"
      },
      "outputs": [],
      "source": [
        "def plot_digits(X, Y):\n",
        "    for i in range(35):\n",
        "        plt.subplot(5, 7, i+1)\n",
        "        plt.tight_layout()\n",
        "        #plt.imshow(X.iloc[i].values.reshape(28, 28), cmap='gray')\n",
        "        #print(type(np.real(X[i].reshape(28, 28))))\n",
        "        #plt.imshow(np.float64(X[i]), cmap='gray')\n",
        "        plt.imshow(np.float64(X[i].reshape(28, 28)), cmap='gray')\n",
        "        #plt.title('Digit:{}'.format(Y.iloc[i]))\n",
        "        plt.title('Digit:{}'.format(Y[i]))\n",
        "        plt.xticks([])\n",
        "        plt.yticks([])\n",
        "    plt.show()"
      ]
    },
    {
      "cell_type": "code",
      "execution_count": null,
      "metadata": {
        "colab": {
          "base_uri": "https://localhost:8080/",
          "height": 284
        },
        "id": "_iwVzy-022gU",
        "outputId": "79f38b58-ac42-4ac4-9193-efb588f31a46"
      },
      "outputs": [
        {
          "output_type": "display_data",
          "data": {
            "text/plain": [
              "<Figure size 432x288 with 35 Axes>"
            ],
            "image/png": "[encoded data removed]"
          },
          "metadata": {}
        }
      ],
      "source": [
        "plot_digits(X_train[1:], Y_train[1:])\n"
      ]
    },
    {
      "cell_type": "code",
      "execution_count": null,
      "metadata": {
        "id": "pv-tFcTQ3Ncf",
        "colab": {
          "base_uri": "https://localhost:8080/",
          "height": 573
        },
        "outputId": "84a7d515-351c-4cae-cf80-a51215d6daab"
      },
      "outputs": [
        {
          "output_type": "stream",
          "name": "stderr",
          "text": [
            "/usr/local/lib/python3.7/dist-packages/seaborn/_decorators.py:43: FutureWarning: Pass the following variable as a keyword arg: x. From version 0.12, the only valid positional argument will be `data`, and passing other arguments without an explicit keyword will result in an error or misinterpretation.\n",
            "  FutureWarning\n"
          ]
        },
        {
          "output_type": "display_data",
          "data": {
            "text/plain": [
              "<Figure size 576x576 with 1 Axes>"
            ],
            "image/png": "[encoded data removed]"
          },
          "metadata": {
            "needs_background": "light"
          }
        }
      ],
      "source": [
        "fig, ax = plt.subplots(figsize=(8,8))\n",
        "sns.countplot(np.float32(Y_train[1:]))\n",
        "ax.set_title('Distribution of Digits', fontsize=14)\n",
        "ax.set_xlabel('Digits', fontsize=12)\n",
        "ax.set_ylabel('Count', fontsize=14)\n",
        "plt.show()"
      ]
    },
    {
      "cell_type": "code",
      "execution_count": null,
      "metadata": {
        "id": "TynAi5X23R7a"
      },
      "outputs": [],
      "source": [
        "#Train-Test Split\n",
        "X_dev, X_val, Y_dev, Y_val = train_test_split(np.float32(X_train[1:]), np.float32(Y_train[1:]), test_size=0.03, shuffle=True, random_state=2019)\n",
        "T_dev = pd.get_dummies(Y_dev).values\n",
        "T_val = pd.get_dummies(Y_val).values"
      ]
    },
    {
      "cell_type": "code",
      "source": [
        "np.unique(np.float32(Y_val))"
      ],
      "metadata": {
        "colab": {
          "base_uri": "https://localhost:8080/"
        },
        "id": "kOA6-Cth_gcf",
        "outputId": "e682d519-fde7-43e3-8996-0afb98ca4209"
      },
      "execution_count": null,
      "outputs": [
        {
          "output_type": "execute_result",
          "data": {
            "text/plain": [
              "array([0., 1., 2., 3., 4., 5., 6., 7., 8., 9.], dtype=float32)"
            ]
          },
          "metadata": {},
          "execution_count": 22
        }
      ]
    },
    {
      "cell_type": "code",
      "execution_count": null,
      "metadata": {
        "id": "1W7VlPrg3V8B"
      },
      "outputs": [],
      "source": [
        "#Reshape the input \n",
        "X_dev = X_dev.reshape(X_dev.shape[0], 28, 28, 1)\n",
        "X_val = X_val.reshape(X_val.shape[0], 28, 28, 1)"
      ]
    },
    {
      "cell_type": "code",
      "source": [
        "plot_digits(X_val, Y_val)"
      ],
      "metadata": {
        "colab": {
          "base_uri": "https://localhost:8080/",
          "height": 284
        },
        "id": "WrHjb5JVLv06",
        "outputId": "82adb114-5d60-4295-b6c6-481e6d560c2b"
      },
      "execution_count": null,
      "outputs": [
        {
          "output_type": "display_data",
          "data": {
            "text/plain": [
              "<Figure size 432x288 with 25 Axes>"
            ],
            "image/png": "[encoded data removed]"
          },
          "metadata": {}
        }
      ]
    },
    {
      "cell_type": "code",
      "source": [
        "np.shape(X_dev)"
      ],
      "metadata": {
        "colab": {
          "base_uri": "https://localhost:8080/"
        },
        "id": "OtyyLSpG3CRP",
        "outputId": "b7d6444c-dbb7-42ba-c03d-67752dffc269"
      },
      "execution_count": null,
      "outputs": [
        {
          "output_type": "execute_result",
          "data": {
            "text/plain": [
              "(40740, 28, 28, 1)"
            ]
          },
          "metadata": {},
          "execution_count": 24
        }
      ]
    },
    {
      "cell_type": "code",
      "execution_count": null,
      "metadata": {
        "id": "_H7uHKTu5Qq_"
      },
      "outputs": [],
      "source": [
        "model = Sequential()\n",
        "model.add(Conv2D(filters=4, kernel_size=(5,5), padding='valid', activation='relu', input_shape=(28, 28, 1)))\n",
        "model.add(MaxPool2D(strides=2))\n",
        "model.add(Conv2D(filters=4, kernel_size=(3,3), padding='valid', activation='relu'))\n",
        "model.add(MaxPool2D(strides=2))\n",
        "model.add(Flatten())\n",
        "model.add(Dense(25, activation='relu'))\n",
        "model.add(Dense(10, activation='softmax'))"
      ]
    },
    {
      "cell_type": "code",
      "execution_count": null,
      "metadata": {
        "id": "4P6n2_O35Xg3",
        "colab": {
          "base_uri": "https://localhost:8080/"
        },
        "outputId": "39c6c54a-e4f9-4d1f-f2f6-0e6988d94f3c"
      },
      "outputs": [
        {
          "output_type": "stream",
          "name": "stdout",
          "text": [
            "Model: \"sequential_1\"\n",
            "_________________________________________________________________\n",
            " Layer (type)                Output Shape              Param #   \n",
            "=================================================================\n",
            " conv2d_2 (Conv2D)           (None, 24, 24, 4)         104       \n",
            "                                                                 \n",
            " max_pooling2d_2 (MaxPooling  (None, 12, 12, 4)        0         \n",
            " 2D)                                                             \n",
            "                                                                 \n",
            " conv2d_3 (Conv2D)           (None, 10, 10, 4)         148       \n",
            "                                                                 \n",
            " max_pooling2d_3 (MaxPooling  (None, 5, 5, 4)          0         \n",
            " 2D)                                                             \n",
            "                                                                 \n",
            " flatten_1 (Flatten)         (None, 100)               0         \n",
            "                                                                 \n",
            " dense_2 (Dense)             (None, 25)                2525      \n",
            "                                                                 \n",
            " dense_3 (Dense)             (None, 10)                260       \n",
            "                                                                 \n",
            "=================================================================\n",
            "Total params: 3,037\n",
            "Trainable params: 3,037\n",
            "Non-trainable params: 0\n",
            "_________________________________________________________________\n"
          ]
        }
      ],
      "source": [
        "model.build()\n",
        "model.summary()"
      ]
    },
    {
      "cell_type": "code",
      "execution_count": null,
      "metadata": {
        "id": "UiLiQpZV5b9g"
      },
      "outputs": [],
      "source": [
        "adam = Adam(learning_rate=5e-4)\n",
        "model.compile(loss='categorical_crossentropy', metrics=['accuracy'], optimizer=adam)"
      ]
    },
    {
      "cell_type": "code",
      "execution_count": null,
      "metadata": {
        "id": "oRmXPtx56_by"
      },
      "outputs": [],
      "source": [
        "checkpoint_path = 'Lenet5Mnist_october.h5'\n",
        "import tensorflow as tf\n",
        "cp_callback = tf.keras.callbacks.ModelCheckpoint(filepath = checkpoint_path, save_weights_only = True, verbose =1)"
      ]
    },
    {
      "cell_type": "code",
      "execution_count": null,
      "metadata": {
        "id": "cPvBTZfa5ova"
      },
      "outputs": [],
      "source": [
        "reduce_lr = ReduceLROnPlateau(monitor='val_acc', \n",
        "                                patience=3, \n",
        "                                verbose=1, \n",
        "                                factor=0.2, \n",
        "                                min_lr=1e-6)"
      ]
    },
    {
      "cell_type": "code",
      "execution_count": null,
      "metadata": {
        "id": "nYVsKHcC5sJy"
      },
      "outputs": [],
      "source": [
        "datagen = ImageDataGenerator(\n",
        "            rotation_range=10, \n",
        "            width_shift_range=0.1, \n",
        "            height_shift_range=0.1, \n",
        "            zoom_range=0.1)\n",
        "datagen.fit(X_dev)"
      ]
    },
    {
      "cell_type": "code",
      "execution_count": null,
      "metadata": {
        "id": "zgXBqv1W5u_l",
        "colab": {
          "base_uri": "https://localhost:8080/"
        },
        "outputId": "afa907be-123b-4fe4-838e-8daf67ec7463"
      },
      "outputs": [
        {
          "output_type": "stream",
          "name": "stdout",
          "text": [
            "Epoch 1/30\n",
            "407/407 [============================>.] - ETA: 0s - loss: 6.5568 - accuracy: 0.2188"
          ]
        },
        {
          "output_type": "stream",
          "name": "stderr",
          "text": [
            "WARNING:tensorflow:Learning rate reduction is conditioned on metric `val_acc` which is not available. Available metrics are: loss,accuracy,val_loss,val_accuracy,lr\n"
          ]
        },
        {
          "output_type": "stream",
          "name": "stdout",
          "text": [
            "\n",
            "Epoch 1: saving model to Lenet5Mnist_october.h5\n",
            "407/407 [==============================] - 29s 71ms/step - loss: 6.5461 - accuracy: 0.2189 - val_loss: 1.9502 - val_accuracy: 0.3643 - lr: 5.0000e-04\n",
            "Epoch 2/30\n",
            "407/407 [============================>.] - ETA: 0s - loss: 1.9170 - accuracy: 0.3727"
          ]
        },
        {
          "output_type": "stream",
          "name": "stderr",
          "text": [
            "WARNING:tensorflow:Learning rate reduction is conditioned on metric `val_acc` which is not available. Available metrics are: loss,accuracy,val_loss,val_accuracy,lr\n"
          ]
        },
        {
          "output_type": "stream",
          "name": "stdout",
          "text": [
            "\n",
            "Epoch 2: saving model to Lenet5Mnist_october.h5\n",
            "407/407 [==============================] - 27s 66ms/step - loss: 1.9165 - accuracy: 0.3731 - val_loss: 1.4075 - val_accuracy: 0.5849 - lr: 5.0000e-04\n",
            "Epoch 3/30\n",
            "408/407 [==============================] - ETA: 0s - loss: 1.4727 - accuracy: 0.5508"
          ]
        },
        {
          "output_type": "stream",
          "name": "stderr",
          "text": [
            "WARNING:tensorflow:Learning rate reduction is conditioned on metric `val_acc` which is not available. Available metrics are: loss,accuracy,val_loss,val_accuracy,lr\n"
          ]
        },
        {
          "output_type": "stream",
          "name": "stdout",
          "text": [
            "\n",
            "Epoch 3: saving model to Lenet5Mnist_october.h5\n",
            "407/407 [==============================] - 29s 71ms/step - loss: 1.4727 - accuracy: 0.5508 - val_loss: 1.0120 - val_accuracy: 0.7032 - lr: 5.0000e-04\n",
            "Epoch 4/30\n",
            "408/407 [==============================] - ETA: 0s - loss: 1.1320 - accuracy: 0.6473"
          ]
        },
        {
          "output_type": "stream",
          "name": "stderr",
          "text": [
            "WARNING:tensorflow:Learning rate reduction is conditioned on metric `val_acc` which is not available. Available metrics are: loss,accuracy,val_loss,val_accuracy,lr\n"
          ]
        },
        {
          "output_type": "stream",
          "name": "stdout",
          "text": [
            "\n",
            "Epoch 4: saving model to Lenet5Mnist_october.h5\n",
            "407/407 [==============================] - 29s 71ms/step - loss: 1.1320 - accuracy: 0.6473 - val_loss: 0.6772 - val_accuracy: 0.7841 - lr: 5.0000e-04\n",
            "Epoch 5/30\n",
            "407/407 [============================>.] - ETA: 0s - loss: 0.8939 - accuracy: 0.7242"
          ]
        },
        {
          "output_type": "stream",
          "name": "stderr",
          "text": [
            "WARNING:tensorflow:Learning rate reduction is conditioned on metric `val_acc` which is not available. Available metrics are: loss,accuracy,val_loss,val_accuracy,lr\n"
          ]
        },
        {
          "output_type": "stream",
          "name": "stdout",
          "text": [
            "\n",
            "Epoch 5: saving model to Lenet5Mnist_october.h5\n",
            "407/407 [==============================] - 27s 66ms/step - loss: 0.8937 - accuracy: 0.7243 - val_loss: 0.5502 - val_accuracy: 0.8206 - lr: 5.0000e-04\n",
            "Epoch 6/30\n",
            "408/407 [==============================] - ETA: 0s - loss: 0.7273 - accuracy: 0.7740"
          ]
        },
        {
          "output_type": "stream",
          "name": "stderr",
          "text": [
            "WARNING:tensorflow:Learning rate reduction is conditioned on metric `val_acc` which is not available. Available metrics are: loss,accuracy,val_loss,val_accuracy,lr\n"
          ]
        },
        {
          "output_type": "stream",
          "name": "stdout",
          "text": [
            "\n",
            "Epoch 6: saving model to Lenet5Mnist_october.h5\n",
            "407/407 [==============================] - 28s 68ms/step - loss: 0.7273 - accuracy: 0.7740 - val_loss: 0.4446 - val_accuracy: 0.8619 - lr: 5.0000e-04\n",
            "Epoch 7/30\n",
            "407/407 [============================>.] - ETA: 0s - loss: 0.5882 - accuracy: 0.8165"
          ]
        },
        {
          "output_type": "stream",
          "name": "stderr",
          "text": [
            "WARNING:tensorflow:Learning rate reduction is conditioned on metric `val_acc` which is not available. Available metrics are: loss,accuracy,val_loss,val_accuracy,lr\n"
          ]
        },
        {
          "output_type": "stream",
          "name": "stdout",
          "text": [
            "\n",
            "Epoch 7: saving model to Lenet5Mnist_october.h5\n",
            "407/407 [==============================] - 27s 66ms/step - loss: 0.5883 - accuracy: 0.8165 - val_loss: 0.3326 - val_accuracy: 0.8944 - lr: 5.0000e-04\n",
            "Epoch 8/30\n",
            "407/407 [============================>.] - ETA: 0s - loss: 0.4944 - accuracy: 0.8466"
          ]
        },
        {
          "output_type": "stream",
          "name": "stderr",
          "text": [
            "WARNING:tensorflow:Learning rate reduction is conditioned on metric `val_acc` which is not available. Available metrics are: loss,accuracy,val_loss,val_accuracy,lr\n"
          ]
        },
        {
          "output_type": "stream",
          "name": "stdout",
          "text": [
            "\n",
            "Epoch 8: saving model to Lenet5Mnist_october.h5\n",
            "407/407 [==============================] - 29s 70ms/step - loss: 0.4941 - accuracy: 0.8467 - val_loss: 0.2874 - val_accuracy: 0.9175 - lr: 5.0000e-04\n"
          ]
        }
      ],
      "source": [
        "#model.fit_generator(datagen.flow(X_dev, T_dev, batch_size=100), steps_per_epoch=len(X_dev)/100, epochs=30, validation_data=(X_val, T_val), callbacks=[reduce_lr , cp_callback])\n",
        "MyModel = model.fit( datagen.flow(np.float32(X_dev), np.float32(T_dev), batch_size=100), steps_per_epoch=len(X_dev)/100, epochs=30, validation_data=(np.float32(X_val), np.float32(T_val)), callbacks=[reduce_lr , cp_callback])"
      ]
    },
    {
      "cell_type": "code",
      "execution_count": null,
      "metadata": {
        "id": "iBSKc1VP5yIl",
        "colab": {
          "base_uri": "https://localhost:8080/"
        },
        "outputId": "bf72263d-e294-41bf-8a9d-1e1dc57e08b1"
      },
      "outputs": [
        {
          "output_type": "stream",
          "name": "stdout",
          "text": [
            "40/40 [==============================] - 1s 14ms/step - loss: 0.1315 - accuracy: 0.9571\n"
          ]
        }
      ],
      "source": [
        "score = model.evaluate(X_val, T_val, batch_size=32)"
      ]
    },
    {
      "cell_type": "code",
      "execution_count": null,
      "metadata": {
        "id": "c7k1RBho51cq",
        "colab": {
          "base_uri": "https://localhost:8080/"
        },
        "outputId": "eb438c08-d470-487e-ca45-ee021b6a1e0d"
      },
      "outputs": [
        {
          "output_type": "stream",
          "name": "stdout",
          "text": [
            "875/875 [==============================] - 12s 13ms/step\n"
          ]
        }
      ],
      "source": [
        "df_test = pd.read_csv('/content/drive/MyDrive/Masters/10- December 2021/test.csv')\n",
        "X_test = np.array(df_test)\n",
        "#X_test = X_test/255.0\n",
        "\n",
        "\n",
        "X_test = X_test.reshape((X_test.shape[0], 28, 28, 1))\n",
        "Y_test = model.predict(X_test)\n",
        "\n",
        "\n",
        "#Y_test[:5]"
      ]
    },
    {
      "cell_type": "code",
      "source": [
        "Y_test = np.argmax(Y_test, axis=1)"
      ],
      "metadata": {
        "id": "JGmnVXPOLgFa"
      },
      "execution_count": null,
      "outputs": []
    },
    {
      "cell_type": "code",
      "source": [
        "np.unique(Y_test)"
      ],
      "metadata": {
        "colab": {
          "base_uri": "https://localhost:8080/"
        },
        "id": "lvZvhvmEK9vp",
        "outputId": "9c40f541-b2e7-422c-b8d9-618b40d57d38"
      },
      "execution_count": null,
      "outputs": [
        {
          "output_type": "execute_result",
          "data": {
            "text/plain": [
              "array([0, 1, 2, 3, 4, 5, 6, 7, 8, 9])"
            ]
          },
          "metadata": {},
          "execution_count": 56
        }
      ]
    },
    {
      "cell_type": "code",
      "source": [
        "np.unique(X_test)"
      ],
      "metadata": {
        "colab": {
          "base_uri": "https://localhost:8080/"
        },
        "id": "1dseTR9tQ9od",
        "outputId": "3aa5b9f5-8864-4410-c2c2-793d0471476c"
      },
      "execution_count": null,
      "outputs": [
        {
          "output_type": "execute_result",
          "data": {
            "text/plain": [
              "array([  0,   1,   2,   3,   4,   5,   6,   7,   8,   9,  10,  11,  12,\n",
              "        13,  14,  15,  16,  17,  18,  19,  20,  21,  22,  23,  24,  25,\n",
              "        26,  27,  28,  29,  30,  31,  32,  33,  34,  35,  36,  37,  38,\n",
              "        39,  40,  41,  42,  43,  44,  45,  46,  47,  48,  49,  50,  51,\n",
              "        52,  53,  54,  55,  56,  57,  58,  59,  60,  61,  62,  63,  64,\n",
              "        65,  66,  67,  68,  69,  70,  71,  72,  73,  74,  75,  76,  77,\n",
              "        78,  79,  80,  81,  82,  83,  84,  85,  86,  87,  88,  89,  90,\n",
              "        91,  92,  93,  94,  95,  96,  97,  98,  99, 100, 101, 102, 103,\n",
              "       104, 105, 106, 107, 108, 109, 110, 111, 112, 113, 114, 115, 116,\n",
              "       117, 118, 119, 120, 121, 122, 123, 124, 125, 126, 127, 128, 129,\n",
              "       130, 131, 132, 133, 134, 135, 136, 137, 138, 139, 140, 141, 142,\n",
              "       143, 144, 145, 146, 147, 148, 149, 150, 151, 152, 153, 154, 155,\n",
              "       156, 157, 158, 159, 160, 161, 162, 163, 164, 165, 166, 167, 168,\n",
              "       169, 170, 171, 172, 173, 174, 175, 176, 177, 178, 179, 180, 181,\n",
              "       182, 183, 184, 185, 186, 187, 188, 189, 190, 191, 192, 193, 194,\n",
              "       195, 196, 197, 198, 199, 200, 201, 202, 203, 204, 205, 206, 207,\n",
              "       208, 209, 210, 211, 212, 213, 214, 215, 216, 217, 218, 219, 220,\n",
              "       221, 222, 223, 224, 225, 226, 227, 228, 229, 230, 231, 232, 233,\n",
              "       234, 235, 236, 237, 238, 239, 240, 241, 242, 243, 244, 245, 246,\n",
              "       247, 248, 249, 250, 251, 252, 253, 254, 255])"
            ]
          },
          "metadata": {},
          "execution_count": 60
        }
      ]
    },
    {
      "cell_type": "code",
      "source": [
        "Y_test"
      ],
      "metadata": {
        "colab": {
          "base_uri": "https://localhost:8080/"
        },
        "id": "SQjqvsT1LlWp",
        "outputId": "8143028d-b2a0-48f2-d8f8-6fe66f2ce12e"
      },
      "execution_count": null,
      "outputs": [
        {
          "output_type": "execute_result",
          "data": {
            "text/plain": [
              "array([2, 0, 9, ..., 3, 9, 2])"
            ]
          },
          "metadata": {},
          "execution_count": 57
        }
      ]
    },
    {
      "cell_type": "code",
      "execution_count": null,
      "metadata": {
        "id": "DWbH0S9N3Njm"
      },
      "outputs": [],
      "source": [
        "\n",
        "\n",
        "def plot_digits(X, Y):\n",
        "    for i in range(25):\n",
        "        plt.subplot(5, 5, i+1)\n",
        "        plt.tight_layout()\n",
        "        plt.imshow(X[i].reshape(28, 28), cmap='gray')\n",
        "        plt.title('Digit:{}'.format(Y[i]))\n",
        "        plt.xticks([])\n",
        "        plt.yticks([])\n",
        "    plt.show()\n",
        "\n"
      ]
    },
    {
      "cell_type": "code",
      "execution_count": null,
      "metadata": {
        "id": "EZIOa0Hj3R97",
        "colab": {
          "base_uri": "https://localhost:8080/",
          "height": 284
        },
        "outputId": "b9961aac-c17b-44df-94bb-5ac2bb625c56"
      },
      "outputs": [
        {
          "output_type": "display_data",
          "data": {
            "text/plain": [
              "<Figure size 432x288 with 25 Axes>"
            ],
            "image/png": "[encoded data removed]"
          },
          "metadata": {}
        }
      ],
      "source": [
        "plot_digits(X_test, Y_test)"
      ]
    },
    {
      "cell_type": "code",
      "execution_count": null,
      "metadata": {
        "id": "S8pOTNwLW7E8",
        "colab": {
          "base_uri": "https://localhost:8080/"
        },
        "outputId": "400c71a0-e91e-4c88-e679-883c54939006"
      },
      "outputs": [
        {
          "output_type": "stream",
          "name": "stdout",
          "text": [
            "[('conv2d_2', <HDF5 group \"/conv2d_2\" (1 members)>), ('conv2d_3', <HDF5 group \"/conv2d_3\" (1 members)>), ('dense_2', <HDF5 group \"/dense_2\" (1 members)>), ('dense_3', <HDF5 group \"/dense_3\" (1 members)>), ('flatten_1', <HDF5 group \"/flatten_1\" (0 members)>), ('max_pooling2d_2', <HDF5 group \"/max_pooling2d_2\" (0 members)>), ('max_pooling2d_3', <HDF5 group \"/max_pooling2d_3\" (0 members)>), ('top_level_model_weights', <HDF5 group \"/top_level_model_weights\" (0 members)>)]\n",
            "8\n"
          ]
        }
      ],
      "source": [
        "import h5py\n",
        "dataset = h5py.File('/content/Lenet5Mnist_october.h5', 'r')\n",
        "big = list(dataset.items())\n",
        "print(big)\n",
        "print(len(big))\n",
        "\n"
      ]
    },
    {
      "cell_type": "code",
      "execution_count": null,
      "metadata": {
        "id": "wzuuAAAphZ7s"
      },
      "outputs": [],
      "source": [
        "import sys"
      ]
    },
    {
      "cell_type": "code",
      "execution_count": null,
      "metadata": {
        "id": "nylw-DwlhZ_F"
      },
      "outputs": [],
      "source": [
        "np.set_printoptions(suppress=None)\n",
        "#np.set_printoptions(precision=1000)\n",
        "np.set_printoptions(threshold=sys.maxsize)"
      ]
    },
    {
      "cell_type": "code",
      "execution_count": null,
      "metadata": {
        "id": "VnDTbnT9XpNT",
        "colab": {
          "base_uri": "https://localhost:8080/"
        },
        "outputId": "0050b6b7-d6a5-4f59-9c9e-dee82acb053a"
      },
      "outputs": [
        {
          "output_type": "stream",
          "name": "stdout",
          "text": [
            "(5, 5, 1, 4)\n",
            "(4, 1, 5, 5)\n",
            "(3, 3, 4, 4)\n",
            "(4, 4, 3, 3)\n",
            "(100, 25)\n",
            "(100, 25)\n",
            "(25, 10)\n",
            "(25, 10)\n"
          ]
        }
      ],
      "source": [
        "f = open(\"newweightsOCToberPRECISE.txt\", \"w\")\n",
        "for i in range (8):\n",
        "  f.write(\"layer number:\")\n",
        "  f.write(str(i) + \"\\n\")\n",
        "  #print(big[i])\n",
        "  f.write(big[i][0] + \"\\n\")\n",
        "  G1_list = list(dataset.get(big[i][0]))\n",
        "  #print(G1_list)\n",
        "  G1 = dataset.get(big[i][0])\n",
        "  #print(G1)\n",
        "  G2= G1.get(big[i][0])\n",
        "  if G2 is not None: \n",
        "    G3 =list(G2.items())\n",
        "    #print(G3)\n",
        "\n",
        "    f.write(G3[0][0] + \"\\n\")\n",
        "    f.write(str(len(np.array(G2.get(G3[0][0]))))+ \"\\n\")\n",
        "    with np.printoptions(threshold= np.inf):\n",
        "      #this\n",
        "      #f.write(str(np.array(G2.get(G3[0][0])))+ \"\\n\")\n",
        "      f.write(str(np.float64(np.array(G2.get(G3[0][0])))))\n",
        "      f.write(\"\\n\")\n",
        "    #print((np.array(G2.get(G3[0][0]))).shape)\n",
        "    #print((np.array(G2.get(G3[0][0])))[0].size)\n",
        "    #for row in x:\n",
        "    #  np.savetxt(f, row)\n",
        "    f.write(\"--------------------------------------------------\" + \"\\n\") \n",
        "    f.write(G3[1][0]  + \"\\n\")\n",
        "    arr1= G2.get(G3[1][0])\n",
        "    f.write(str(len(np.array(arr1)))+ \"\\n\")\n",
        "    if arr1.ndim is 4:\n",
        "      arr2 = np.moveaxis(np.array(arr1),[0,1, 2, 3], [2,3,1,0])\n",
        "    else:\n",
        "      arr2 = np.array(arr1)\n",
        "    #arr3 = np.rollaxis(arr2, axis= -1)\n",
        "    with np.printoptions(threshold= np.inf):\n",
        "      #this\n",
        "      #f.write(str(arr2)+ \"\\n\")\n",
        "      f.write(str(np.float64(arr2)))\n",
        "      f.write(\"\\n\")\n",
        "    print((np.array(arr1)).shape)\n",
        "    print(arr2.shape)\n",
        "    #print((np.array(G2.get(G3[1][0])))[0].size)\n",
        "    f.write(\"--------------------------------------------------\" + \"\\n\") \n",
        "  f.write(\"***************\" + \"\\n\")\n",
        "  f.write(\"***************\" + \"\\n\")\n",
        "  f.write(\"***************\" + \"\\n\")\n",
        "f.close()"
      ]
    },
    {
      "cell_type": "code",
      "execution_count": null,
      "metadata": {
        "id": "a5Rrd2hLkFc7"
      },
      "outputs": [],
      "source": [
        "f = open(\"newweightslastJan.txt\", \"w\")\n",
        "for i in range (8):\n",
        "  f.write(\"layer number:\")\n",
        "  f.write(str(i) + \"\\n\")\n",
        "  #print(big[i])\n",
        "  f.write(big[i][0] + \"\\n\")\n",
        "  G1_list = list(dataset.get(big[i][0]))\n",
        "  #print(G1_list)\n",
        "  G1 = dataset.get(big[i][0])\n",
        "  #print(G1)\n",
        "  G2= G1.get(big[i][0])\n",
        "  if G2 is not None: \n",
        "    G3 =list(G2.items())\n",
        "    #print(G3)\n",
        "\n",
        "    f.write(G3[0][0] + \"\\n\")\n",
        "    f.write(str(len(np.array(G2.get(G3[0][0]))))+ \"\\n\")\n",
        "    with np.printoptions(threshold= np.inf):\n",
        "      f.write(str(np.array(G2.get(G3[0][0])))+ \"\\n\")\n",
        "    #print((np.array(G2.get(G3[0][0]))).shape)\n",
        "    #print((np.array(G2.get(G3[0][0])))[0].size)\n",
        "    #for row in x:\n",
        "    #  np.savetxt(f, row)\n",
        "    f.write(\"--------------------------------------------------\" + \"\\n\") \n",
        "    f.write(G3[1][0]  + \"\\n\")\n",
        "    arr1= G2.get(G3[1][0])\n",
        "    f.write(str(len(np.array(arr1)))+ \"\\n\")\n",
        "    if arr1.ndim is 4:\n",
        "      arr2 = np.moveaxis(np.array(arr1),[0,1, 2, 3], [2,3,1,0])\n",
        "    else:\n",
        "      arr2 = np.array(arr1)\n",
        "    #arr3 = np.rollaxis(arr2, axis= -1)\n",
        "    with np.printoptions(threshold= np.inf):\n",
        "      f.write(str(arr2)+ \"\\n\")\n",
        "    print((np.array(arr1)).shape)\n",
        "    print(arr2.shape)\n",
        "    #print((np.array(G2.get(G3[1][0])))[0].size)\n",
        "    f.write(\"--------------------------------------------------\" + \"\\n\") \n",
        "  f.write(\"***************\" + \"\\n\")\n",
        "  f.write(\"***************\" + \"\\n\")\n",
        "  f.write(\"***************\" + \"\\n\")\n",
        "f.close()"
      ]
    },
    {
      "cell_type": "code",
      "execution_count": null,
      "metadata": {
        "id": "VhYAvshQW7T2",
        "colab": {
          "base_uri": "https://localhost:8080/"
        },
        "outputId": "ee1724cf-a4ff-4376-a085-465e4af5a4b9"
      },
      "outputs": [
        {
          "output_type": "stream",
          "name": "stderr",
          "text": [
            "/usr/local/lib/python3.7/dist-packages/numpy/lib/npyio.py:1378: VisibleDeprecationWarning: Creating an ndarray from ragged nested sequences (which is a list-or-tuple of lists-or-tuples-or ndarrays with different lengths or shapes) is deprecated. If you meant to do this, you must specify 'dtype=object' when creating the ndarray.\n",
            "  X = np.asarray(X)\n"
          ]
        }
      ],
      "source": [
        "\n",
        "weight = model.get_weights()\n",
        "np.savetxt('weight.csv' , weight , fmt='%s', delimiter=',')"
      ]
    },
    {
      "cell_type": "code",
      "execution_count": null,
      "metadata": {
        "id": "AreuNaw8W7ZM"
      },
      "outputs": [],
      "source": [
        "#print(read(l1f1))"
      ]
    },
    {
      "cell_type": "code",
      "execution_count": null,
      "metadata": {
        "id": "ZPEu8Z9UhH93"
      },
      "outputs": [],
      "source": [
        "def btats(i, lista, number):\n",
        "  bitlist = [\"5'b00000: dout <=64'b\", \"5'b00001: dout <=64'b\",\"5'b00010: dout <=64'b\",\"5'b00011: dout <=64'b\",\"5'b00100: dout <=64'b\",\n",
        "            \"5'b00101: dout <=64'b\",\"5'b00110: dout <=64'b\",\"5'b00111: dout <=64'b\",\"5'b01000: dout <=64'b\",\"5'b01001: dout <=64'b\",\n",
        "            \"5'b01010: dout <=64'b\",\"5'b01011: dout <=64'b\",\"5'b01100: dout <=64'b\",\"5'b01101: dout <=64'b\",\"5'b01110: dout <=64'b\",\n",
        "            \"5'b01111: dout <=64'b\",\"5'b10000: dout <=64'b\",\"5'b10001: dout <=64'b\",\"5'b10010: dout <=64'b\",\"5'b10011: dout <=64'b\",\n",
        "            \"5'b10100: dout <=64'b\",\"5'b10101: dout <=64'b\",\"5'b10110: dout <=64'b\",\"5'b10111: dout <=64'b\",\"5'b11000: dout <=64'b\",\n",
        "            \"5'b11001: dout <=64'b\",]\n",
        "  f = \"module ROM_26x64bit_F\"+str(i) + \"(clk, addr, dout); input clk; input [4:0] addr; output reg [63:0] dout; always @(posedge clk) begin case(addr)\"\n",
        "  print(f)\n",
        "  for t in range(0, 25):\n",
        "    print(bitlist[t], lista[t], \";\")\n",
        "  print(bitlist[25], number,  \";\", \" endcase end endmodule\")"
      ]
    },
    {
      "cell_type": "code",
      "execution_count": null,
      "metadata": {
        "id": "IfAXHuJT0GIf"
      },
      "outputs": [],
      "source": [
        "uu=0"
      ]
    },
    {
      "cell_type": "code",
      "execution_count": null,
      "metadata": {
        "id": "jH1e3wSQW7ez"
      },
      "outputs": [],
      "source": [
        "l1f1 = open(\"/content/l2f4c4\", 'r')\n",
        "#print(l1f1.read())\n",
        "cc= []\n",
        "for t in l1f1:\n",
        "  if((len(t) == 65) | (len(t) == 64)): \n",
        "    #print(t)\n",
        "    cc.append(t[0:64])\n",
        "btats(2,cc,222)"
      ]
    },
    {
      "cell_type": "code",
      "execution_count": null,
      "metadata": {
        "id": "F92MleDHwNwQ"
      },
      "outputs": [],
      "source": [
        "def btats(i, lista, number):\n",
        "  bitlist = [\"4'b0000: dout <=64'b\", \"4'b0001: dout <=64'b\",\"4'b0010: dout <=64'b\",\"4'b0011: dout <=64'b\",\"4'b0100: dout <=64'b\",\n",
        "            \"4'b0101: dout <=64'b\",\"4'b0110: dout <=64'b\",\"4'b0111: dout <=64'b\",\"4'b1000: dout <=64'b\"]\n",
        "  f = \"module ROM_9x64bit_F\"+str(i) + \"(clk, addr, dout); input clk; input [4:0] addr; output reg [63:0] dout; always @(posedge clk) begin case(addr)\"\n",
        "  print(f)\n",
        "  for t in range(0, 9):\n",
        "    print(bitlist[t], lista[t], \";\")\n",
        "  print(\" endcase end endmodule\")"
      ]
    },
    {
      "cell_type": "code",
      "execution_count": null,
      "metadata": {
        "id": "XjkczvuPhIAY"
      },
      "outputs": [],
      "source": []
    },
    {
      "cell_type": "code",
      "execution_count": null,
      "metadata": {
        "id": "4FvHCSOxhIDw"
      },
      "outputs": [],
      "source": []
    },
    {
      "cell_type": "code",
      "execution_count": null,
      "metadata": {
        "id": "yc3p8UJThILA"
      },
      "outputs": [],
      "source": [
        "for g in range ()"
      ]
    },
    {
      "cell_type": "code",
      "execution_count": null,
      "metadata": {
        "id": "oWPMN0tDHOGh"
      },
      "outputs": [],
      "source": []
    },
    {
      "cell_type": "code",
      "execution_count": null,
      "metadata": {
        "id": "JAze7q99HOLs"
      },
      "outputs": [],
      "source": [
        "v=0"
      ]
    },
    {
      "cell_type": "code",
      "execution_count": null,
      "metadata": {
        "id": "G1eCQMpDHl8g"
      },
      "outputs": [],
      "source": [
        "import numpy as np"
      ]
    },
    {
      "cell_type": "code",
      "execution_count": null,
      "metadata": {
        "id": "4am_vn_xHjJp"
      },
      "outputs": [],
      "source": [
        "bb = np.array([[1,2] ,[3,4], [5,6]])"
      ]
    },
    {
      "cell_type": "code",
      "execution_count": null,
      "metadata": {
        "id": "cFhMbAyrCpBx"
      },
      "outputs": [],
      "source": []
    },
    {
      "cell_type": "code",
      "execution_count": null,
      "metadata": {
        "id": "iCwq_k1shIOP"
      },
      "outputs": [],
      "source": [
        "print(bb)"
      ]
    },
    {
      "cell_type": "code",
      "execution_count": null,
      "metadata": {
        "id": "2ZFlaPvlDryV"
      },
      "outputs": [],
      "source": [
        "print(bb.ndim)"
      ]
    },
    {
      "cell_type": "code",
      "execution_count": null,
      "metadata": {
        "id": "VCMO61DkERTx"
      },
      "outputs": [],
      "source": [
        "arr2 = np.moveaxis(np.array(bb),[0,1], [1,0])"
      ]
    },
    {
      "cell_type": "code",
      "execution_count": null,
      "metadata": {
        "id": "neZPViNAH42g"
      },
      "outputs": [],
      "source": [
        "ccccc=9"
      ]
    },
    {
      "cell_type": "code",
      "execution_count": null,
      "metadata": {
        "id": "OlsysDI_D1DF"
      },
      "outputs": [],
      "source": [
        "print(arr2)"
      ]
    },
    {
      "cell_type": "code",
      "execution_count": null,
      "metadata": {
        "id": "DG3679-F3sQm"
      },
      "outputs": [],
      "source": [
        "iiii=0"
      ]
    },
    {
      "cell_type": "code",
      "execution_count": null,
      "metadata": {
        "id": "f6ObpUsTDDzO"
      },
      "outputs": [],
      "source": [
        "g = open()"
      ]
    },
    {
      "cell_type": "code",
      "execution_count": null,
      "metadata": {
        "id": "UcKOZKVJJcJ5"
      },
      "outputs": [],
      "source": [
        "f = open(\"/content/dense1main\", \"r\")\n",
        "cc= []\n",
        "for g in f:\n",
        "  if (len(g)== 65 | (len(g) == 64)):\n",
        "    cc.append(g[0:64])"
      ]
    },
    {
      "cell_type": "code",
      "execution_count": null,
      "metadata": {
        "id": "kUYwcyqOKXsJ"
      },
      "outputs": [],
      "source": [
        "print(len(cc))"
      ]
    },
    {
      "cell_type": "code",
      "execution_count": null,
      "metadata": {
        "id": "LuQWUQXCM-3t"
      },
      "outputs": [],
      "source": [
        "hhhhhh=9"
      ]
    },
    {
      "cell_type": "code",
      "execution_count": null,
      "metadata": {
        "id": "VHPPWGfyKdh-"
      },
      "outputs": [],
      "source": [
        "for g in range(0, 101):\n",
        "  strr= \"weight_of_dense1_\" + str(g)\n",
        "  h = open(strr+ \".txt\", 'w')\n",
        "  for tt in range(0, 25):\n",
        "    #print(cc[25*g +tt], end=\" \")\n",
        "    h.write(cc[25*g +tt]+ \"\\n\")\n",
        "  print(g)"
      ]
    },
    {
      "cell_type": "code",
      "execution_count": null,
      "metadata": {
        "id": "Ar9H9XMBLNWP"
      },
      "outputs": [],
      "source": [
        "#for yy in range(0, 25):\n",
        "for g in range(0, 100):\n",
        "  strr= \"weight_of_dense1_\" + str(g)\n",
        "  h = open(strr+ \".txt\", 'r')\n",
        "  print(h.readline())\n",
        "  #for tt in range(0, 25):\n",
        "    #print(cc[25*g +tt], end=\" \")\n",
        "    #h.write(cc[25*g +tt]+ \"\\n\")\n",
        "  print(g)"
      ]
    },
    {
      "cell_type": "code",
      "execution_count": null,
      "metadata": {
        "id": "uvt8hBJ9PSWL"
      },
      "outputs": [],
      "source": [
        "print()"
      ]
    },
    {
      "cell_type": "code",
      "execution_count": null,
      "metadata": {
        "id": "FfzL6St7PSbo"
      },
      "outputs": [],
      "source": [
        "g = 0\n",
        "strr= \"weight_of_dense1_\" + str(g)\n",
        "h = open(strr+ \".txt\", 'r')\n",
        "line = h.readline()\n",
        "print(line)"
      ]
    },
    {
      "cell_type": "markdown",
      "metadata": {
        "id": "K4JovZkeNpXe"
      },
      "source": []
    },
    {
      "cell_type": "code",
      "execution_count": null,
      "metadata": {
        "id": "lSmMWzBdNp8i"
      },
      "outputs": [],
      "source": [
        "25*64"
      ]
    },
    {
      "cell_type": "code",
      "execution_count": null,
      "metadata": {
        "id": "su05QsUNNp-z"
      },
      "outputs": [],
      "source": [
        "for t in h:\n",
        "  print(t)"
      ]
    },
    {
      "cell_type": "code",
      "execution_count": null,
      "metadata": {
        "id": "B-p57-SNNqBR"
      },
      "outputs": [],
      "source": [
        "g =0\n",
        "strr= \"weight_of_dense1_\" + str(g)\n",
        "h = open(strr+ \".txt\", 'r')\n",
        "for hh in h:\n",
        "  print(hh)"
      ]
    },
    {
      "cell_type": "code",
      "execution_count": null,
      "metadata": {
        "id": "VroW1FSNNqDu"
      },
      "outputs": [],
      "source": [
        "for t in range(0, 25):\n",
        "  ghgh =[]\n",
        "  for g in range(0, 100):\n",
        "    strr= \"weight_of_dense1_\" + str(g)\n",
        "    h = open(strr+ \".txt\", 'r')\n",
        "    p= []\n",
        "    for hh in h:\n",
        "      p.append(hh)\n",
        "    ghgh.append(p)"
      ]
    },
    {
      "cell_type": "code",
      "execution_count": null,
      "metadata": {
        "id": "SHyKSdllNqGh"
      },
      "outputs": [],
      "source": [
        "print(len(ghgh))"
      ]
    },
    {
      "cell_type": "code",
      "execution_count": null,
      "metadata": {
        "id": "D2RtHhi5UEFv"
      },
      "outputs": [],
      "source": [
        "print(ghgh)"
      ]
    },
    {
      "cell_type": "code",
      "execution_count": null,
      "metadata": {
        "id": "vKhMAo1RUUup"
      },
      "outputs": [],
      "source": [
        "ghgh.ndim"
      ]
    },
    {
      "cell_type": "code",
      "execution_count": null,
      "metadata": {
        "id": "EI68mcl4Uzov"
      },
      "outputs": [],
      "source": [
        "nnn = np.asarray(ghgh)"
      ]
    },
    {
      "cell_type": "code",
      "execution_count": null,
      "metadata": {
        "id": "kg3_OBXnU-Gl"
      },
      "outputs": [],
      "source": [
        "print(nnn.ndim)"
      ]
    },
    {
      "cell_type": "code",
      "execution_count": null,
      "metadata": {
        "id": "IS5LH2n0ULI4"
      },
      "outputs": [],
      "source": [
        "arr2 = np.moveaxis(np.array(nnn),[0,1], [1,0])"
      ]
    },
    {
      "cell_type": "code",
      "execution_count": null,
      "metadata": {
        "id": "NaWdq2CeU-JE"
      },
      "outputs": [],
      "source": [
        "print(arr2)"
      ]
    },
    {
      "cell_type": "code",
      "execution_count": null,
      "metadata": {
        "id": "CSFc6103XJrr"
      },
      "outputs": [],
      "source": [
        "iiiiiiiiiiiiiiiiiiiiii=0"
      ]
    },
    {
      "cell_type": "code",
      "execution_count": null,
      "metadata": {
        "id": "tD7r8CLoU-Lf"
      },
      "outputs": [],
      "source": [
        "print(len(arr2))"
      ]
    },
    {
      "cell_type": "code",
      "execution_count": null,
      "metadata": {
        "id": "q0O8MSG2U-Ot"
      },
      "outputs": [],
      "source": [
        "k = open(\"organized.txt\", 'w')\n",
        "#k.write(arr2)\n",
        "for row in arr2:\n",
        "    print(row)"
      ]
    },
    {
      "cell_type": "code",
      "execution_count": null,
      "metadata": {
        "id": "HzYQintGXneL"
      },
      "outputs": [],
      "source": [
        "def btats(i, lista, number):\n",
        "  bitlist = [\"7'b00000: dout <=64'b\", \"7'b00001: dout <=64'b\",\"7'b00010: dout <=64'b\",\"7'b00011: dout <=64'b\",\"7'b00100: dout <=64'b\",\n",
        "            \"7'b00101: dout <=64'b\",\"7'b00110: dout <=64'b\",\"7'b00111: dout <=64'b\",\"7'b01000: dout <=64'b\",\"7'b01001: dout <=64'b\",\n",
        "            \"7'b01010: dout <=64'b\",\"7'b01011: dout <=64'b\",\"7'b01100: dout <=64'b\",\"7'b01101: dout <=64'b\",\"7'b01110: dout <=64'b\",\n",
        "            \"7'b01111: dout <=64'b\",\"7'b10000: dout <=64'b\",\"7'b10001: dout <=64'b\",\"7'b10010: dout <=64'b\",\"7'b10011: dout <=64'b\",\n",
        "            \"7'b10100: dout <=64'b\",\"7'b10101: dout <=64'b\",\"7'b10110: dout <=64'b\",\"7'b10111: dout <=64'b\",\"7'b11000: dout <=64'b\",\n",
        "            \"7'b11001: dout <=64'b\", \n",
        "             \"7'b11010: dout <=64'b\",\"7'b11011: dout <=64'b\",\"7'b11100: dout <=64'b\",\"7'b11101: dout <=64'b\",\"7'b11110: dout <=64'b\",\n",
        "             \"7'b11111: dout <=64'b\",\"7'b100000: dout <=64'b\",\"7'b100001: dout <=64'b\",\"7'b100010: dout <=64'b\",\"7'b100011: dout <=64'b\",\n",
        "             \"7'b100100: dout <=64'b\",\"7'b100101: dout <=64'b\",\"7'b100110: dout <=64'b\",\"7'b100111: dout <=64'b\",\"7'b101000: dout <=64'b\",\n",
        "             \"7'b101001: dout <=64'b\",\"7'b101010: dout <=64'b\",\"7'b101011: dout <=64'b\",\"7'b101100: dout <=64'b\",\"7'b101101: dout <=64'b\",\n",
        "             \"7'b101110: dout <=64'b\",\"7'b101111: dout <=64'b\",\"7'b110000: dout <=64'b\",\"7'b110001: dout <=64'b\",\"7'b110010: dout <=64'b\",\n",
        "             \"7'b110011: dout <=64'b\",\n",
        "             \"7'b110100: dout <=64'b\",\"7'b110101: dout <=64'b\",\"7'b110110: dout <=64'b\",\"7'b110111: dout <=64'b\",\n",
        "             \"7'b111000: dout <=64'b\",\"7'b111001: dout <=64'b\",\"7'b111010: dout <=64'b\",\"7'b111011: dout <=64'b\",\"7'b111100: dout <=64'b\",\n",
        "             \"7'b111101: dout <=64'b\",\"7'b111110: dout <=64'b\",\"7'b111111: dout <=64'b\",\"7'b1000000: dout <=64'b\",\"7'b1000001: dout <=64'b\",\n",
        "             \"7'b1000010: dout <=64'b\",\"7'b1000011: dout <=64'b\",\"7'b1000100: dout <=64'b\",\"7'b1000101: dout <=64'b\",\"7'b1000110: dout <=64'b\",\n",
        "             \"7'b1000111: dout <=64'b\",\"7'b1001000: dout <=64'b\",\"7'b1001001: dout <=64'b\",\"7'b1001010: dout <=64'b\",\"7'b1001011: dout <=64'b\",\n",
        "             \"7'b1001100: dout <=64'b\",\"7'b1001101: dout <=64'b\",\"7'b1001110: dout <=64'b\",\"7'b1001111: dout <=64'b\",\"7'b1010000: dout <=64'b\",\n",
        "             \"7'b1010001: dout <=64'b\",\"7'b1010010: dout <=64'b\",\"7'b1010011: dout <=64'b\",\"7'b1010100: dout <=64'b\",\"7'b1010101: dout <=64'b\",\n",
        "             \"7'b1010110: dout <=64'b\",\"7'b1010111: dout <=64'b\",\"7'b1011000: dout <=64'b\",\"7'b1011001: dout <=64'b\",\"7'b1011010: dout <=64'b\",\n",
        "             \"7'b1011011: dout <=64'b\",\"7'b1011100: dout <=64'b\",\"7'b1011101: dout <=64'b\",\"7'b1011110: dout <=64'b\",\"7'b1011111: dout <=64'b\",\n",
        "             \"7'b1100000: dout <=64'b\",\"7'b1100001: dout <=64'b\",\"7'b1100010: dout <=64'b\",\"7'b1100011: dout <=64'b\",\"7'b1100100: dout <=64'b\",\n",
        "             \"7'b1100101: dout <=64'b\"      ]\n",
        "  f = \"module ROM_26x64bit_F\"+str(i) + \"(clk, addr, dout); input clk; input [4:0] addr; output reg [63:0] dout; always @(posedge clk) begin case(addr)\"\n",
        "  print(f)\n",
        "  for t in range(0, 100):\n",
        "    print(bitlist[t], lista[t], \";\")\n",
        "  print(bitlist[100], number,  \";\", \" endcase end endmodule\")\n"
      ]
    },
    {
      "cell_type": "code",
      "execution_count": null,
      "metadata": {
        "id": "hgIqU60tezlr"
      },
      "outputs": [],
      "source": [
        "1+2+32+64"
      ]
    },
    {
      "cell_type": "code",
      "execution_count": null,
      "metadata": {
        "id": "Sp1u30go54ex"
      },
      "outputs": [],
      "source": [
        "print(l1f1.read())"
      ]
    },
    {
      "cell_type": "code",
      "execution_count": null,
      "metadata": {
        "id": "DBNA2dAC6ARG"
      },
      "outputs": [],
      "source": [
        "print(t)"
      ]
    },
    {
      "cell_type": "code",
      "execution_count": null,
      "metadata": {
        "id": "Zfv6GsAojarC"
      },
      "outputs": [],
      "source": [
        "l1f1 = open(\"/content/dens1out24.txt\", 'r')\n",
        "#print(l1f1.read())\n",
        "cc= []\n",
        "for t in l1f1:\n",
        "  #print(t[0:64])\n",
        "  cc.append(t[0:64])\n",
        "  #if((len(t) == 65) | (len(t) == 64)): \n",
        "    #print(t)\n",
        "    #cc.append(t[0:64])\n",
        "#print(len(cc))\n",
        "btats(2,cc,222)"
      ]
    },
    {
      "cell_type": "code",
      "execution_count": null,
      "metadata": {
        "id": "TtnPTjO4HGjk"
      },
      "outputs": [],
      "source": [
        "g=99"
      ]
    },
    {
      "cell_type": "code",
      "execution_count": null,
      "metadata": {
        "id": "QSPdrRMQbQki"
      },
      "outputs": [],
      "source": [
        "def btats(i, lista, number):\n",
        "  bitlist = [\"5'b00000: dout <=64'b\", \"5'b00001: dout <=64'b\",\"5'b00010: dout <=64'b\",\"5'b00011: dout <=64'b\",\"5'b00100: dout <=64'b\",\n",
        "            \"5'b00101: dout <=64'b\",\"5'b00110: dout <=64'b\",\"5'b00111: dout <=64'b\",\"5'b01000: dout <=64'b\",\"5'b01001: dout <=64'b\",\n",
        "            \"5'b01010: dout <=64'b\",\"5'b01011: dout <=64'b\",\"5'b01100: dout <=64'b\",\"5'b01101: dout <=64'b\",\"5'b01110: dout <=64'b\",\n",
        "            \"5'b01111: dout <=64'b\",\"5'b10000: dout <=64'b\",\"5'b10001: dout <=64'b\",\"5'b10010: dout <=64'b\",\"5'b10011: dout <=64'b\",\n",
        "            \"5'b10100: dout <=64'b\",\"5'b10101: dout <=64'b\",\"5'b10110: dout <=64'b\",\"5'b10111: dout <=64'b\",\"5'b11000: dout <=64'b\",\n",
        "            \"5'b11001: dout <=64'b\",]\n",
        "  f = \"module ROM_26x64bit_F\"+str(i) + \"(clk, addr, dout); input clk; input [4:0] addr; output reg [63:0] dout; always @(posedge clk) begin case(addr)\"\n",
        "  for t in range(0, 25):\n",
        "    print(bitlist[t], lista[t], \";\")\n",
        "  print(bitlist[25], number,  \";\")"
      ]
    },
    {
      "cell_type": "code",
      "execution_count": null,
      "metadata": {
        "id": "ZHM1PYWZbuvo"
      },
      "outputs": [],
      "source": [
        "l1f1 = open(\"/content/dense2_9.txt\", 'r')\n",
        "#print(l1f1.read())\n",
        "cc= []\n",
        "for t in l1f1:\n",
        "  #print(t[0:64])\n",
        "  cc.append(t[0:64])\n",
        "  #if((len(t) == 65) | (len(t) == 64)): \n",
        "    #print(t)\n",
        "    #cc.append(t[0:64])\n",
        "#print(len(cc))\n",
        "btats(2,cc,222)"
      ]
    },
    {
      "cell_type": "code",
      "execution_count": null,
      "metadata": {
        "id": "2jSun_0H4pGy"
      },
      "outputs": [],
      "source": [
        "f = open(\"/content/dense2main.txt\", \"r\")\n",
        "cc= []\n",
        "for g in f:\n",
        "  if (len(g)== 65 | (len(g) == 64)):\n",
        "    cc.append(g[0:64])"
      ]
    },
    {
      "cell_type": "code",
      "execution_count": null,
      "metadata": {
        "id": "O4uYLkRI4pN4"
      },
      "outputs": [],
      "source": [
        "print(len(cc))"
      ]
    },
    {
      "cell_type": "code",
      "execution_count": null,
      "metadata": {
        "id": "bKIKtIr24pQc"
      },
      "outputs": [],
      "source": [
        "for g in range(0, 26):\n",
        "  strr= \"weight_of_dense2_\" + str(g)\n",
        "  h = open(strr+ \".txt\", 'w')\n",
        "  for tt in range(0, 10):\n",
        "    #print(cc[25*g +tt], end=\" \")\n",
        "    h.write(cc[10*g +tt]+ \"\\n\")\n",
        "  print(g)"
      ]
    },
    {
      "cell_type": "code",
      "execution_count": null,
      "metadata": {
        "id": "tdKkog7v4pS7"
      },
      "outputs": [],
      "source": [
        "for t in range(0, 10):\n",
        "  ghgh =[]\n",
        "  for g in range(0, 25):\n",
        "    strr= \"weight_of_dense2_\" + str(g)\n",
        "    h = open(strr+ \".txt\", 'r')\n",
        "    p= []\n",
        "    for hh in h:\n",
        "      p.append(hh)\n",
        "    ghgh.append(p)"
      ]
    },
    {
      "cell_type": "code",
      "execution_count": null,
      "metadata": {
        "id": "-BNmNk-d4pVe"
      },
      "outputs": [],
      "source": [
        "print(len(ghgh))"
      ]
    },
    {
      "cell_type": "code",
      "execution_count": null,
      "metadata": {
        "id": "ZZnh-U4O4pYR"
      },
      "outputs": [],
      "source": [
        "nnn = np.asarray(ghgh)"
      ]
    },
    {
      "cell_type": "code",
      "execution_count": null,
      "metadata": {
        "id": "WoaCj4vO4pat"
      },
      "outputs": [],
      "source": [
        "print(nnn.ndim)"
      ]
    },
    {
      "cell_type": "code",
      "execution_count": null,
      "metadata": {
        "id": "mBJ9tuDf4pda"
      },
      "outputs": [],
      "source": [
        "arr2 = np.moveaxis(np.array(nnn),[0,1], [1,0])"
      ]
    },
    {
      "cell_type": "code",
      "execution_count": null,
      "metadata": {
        "id": "mDhtvKcy4pg8"
      },
      "outputs": [],
      "source": [
        "print(len(arr2))"
      ]
    },
    {
      "cell_type": "code",
      "execution_count": null,
      "metadata": {
        "id": "uiKhktRU9jXT"
      },
      "outputs": [],
      "source": [
        "print(arr2)"
      ]
    },
    {
      "cell_type": "code",
      "execution_count": null,
      "metadata": {
        "id": "MyMnXtGP96GA"
      },
      "outputs": [],
      "source": [
        "k = open(\"organized.txt\", 'w')\n",
        "k.write(arr2)\n",
        "for row in arr2:\n",
        "    print(row)"
      ]
    },
    {
      "cell_type": "code",
      "execution_count": null,
      "metadata": {
        "id": "yh2D4KD1oKrO"
      },
      "outputs": [],
      "source": [
        "H=-2987654321\n",
        "G=3123456782\n",
        "H*G"
      ]
    },
    {
      "cell_type": "code",
      "execution_count": null,
      "metadata": {
        "id": "uX4RIfvsDMJ4"
      },
      "outputs": [],
      "source": [
        "-0.09331809151199055 * 2\n",
        "011011111111000111111000111011000111000111001010110100110001101000"
      ]
    },
    {
      "cell_type": "code",
      "execution_count": null,
      "metadata": {
        "id": "iURdA8dqoviU"
      },
      "outputs": [],
      "source": [
        "3.123456782e04 * -2.987654321e-06 = 011011111110110111111000111011000111000111001010110100110001101000"
      ]
    }
  ],
  "metadata": {
    "colab": {
      "provenance": []
    },
    "kernelspec": {
      "display_name": "Python 3",
      "name": "python3"
    },
    "language_info": {
      "name": "python"
    }
  },
  "nbformat": 4,
  "nbformat_minor": 0
}